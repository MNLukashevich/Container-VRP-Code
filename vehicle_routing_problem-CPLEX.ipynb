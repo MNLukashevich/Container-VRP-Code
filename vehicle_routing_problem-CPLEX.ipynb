{
 "cells": [
  {
   "cell_type": "code",
   "execution_count": null,
   "id": "af4c7cf8",
   "metadata": {},
   "outputs": [],
   "source": []
  },
  {
   "cell_type": "code",
   "execution_count": 1,
   "id": "c372cd4d",
   "metadata": {},
   "outputs": [
    {
     "name": "stdout",
     "output_type": "stream",
     "text": [
      "Model: single variable\n",
      " - number of variables: 1\n",
      "   - binary=0, integer=0, continuous=1\n",
      " - number of constraints: 1\n",
      "   - linear=1\n",
      " - parameters: defaults\n",
      " - objective: minimize\n",
      " - problem type is: LP\n",
      "objective: 6.000\n",
      "  x=2.000\n"
     ]
    }
   ],
   "source": [
    "from docplex.mp.model import Model\n",
    "m = Model(name='single variable')\n",
    "x = m.continuous_var(name=\"x\", lb=0)\n",
    "c1 = m.add_constraint(x >= 2, ctname=\"const1\")\n",
    "m.set_objective(\"min\", 3*x)\n",
    "m.print_information()\n",
    "m.solve()\n",
    "m.print_solution()"
   ]
  },
  {
   "cell_type": "code",
   "execution_count": null,
   "id": "0aecff1a",
   "metadata": {},
   "outputs": [],
   "source": []
  },
  {
   "cell_type": "code",
   "execution_count": null,
   "id": "096c2e37",
   "metadata": {},
   "outputs": [],
   "source": []
  },
  {
   "cell_type": "code",
   "execution_count": null,
   "id": "283ce1df",
   "metadata": {},
   "outputs": [],
   "source": []
  },
  {
   "cell_type": "code",
   "execution_count": 2,
   "id": "51e96430",
   "metadata": {},
   "outputs": [],
   "source": [
    "import numpy as np\n",
    "import pandas as pd\n",
    "import random\n",
    "import unittest\n",
    "from itertools import product"
   ]
  },
  {
   "cell_type": "code",
   "execution_count": 3,
   "id": "7546b2d3",
   "metadata": {},
   "outputs": [],
   "source": [
    "from docplex.util.status import JobSolveStatus"
   ]
  },
  {
   "cell_type": "markdown",
   "id": "324eea9c",
   "metadata": {},
   "source": [
    "## Input data\n",
    "\n",
    "### We define all the input data for the model."
   ]
  },
  {
   "cell_type": "markdown",
   "id": "5ae8d7f9",
   "metadata": {},
   "source": [
    "The containers are of four types which are empty (type $20E$) and full (type $20F$) 20-foot containers, and empty (type $20E$) and full (type $40F$) 40-foot containers. We denote the set of container types as \n",
    "$\\Pi=\\{20E,20F,40E,40F\\}$ and the set of vehicle types as $M=\\{1,\\ldots,4\\}$.\n",
    "\n",
    "Vehicle of type 1 can transport at most one 20-foot container,  vehicle of type 2 can transport at most two 20-foot containers, vehicle of type 3 can transport at most one 40-foot container, and vehicle of type 4 can transport at most one 20-foot container and at most one 40-foot container. The mentioned containers can be empty or full. "
   ]
  },
  {
   "cell_type": "code",
   "execution_count": 4,
   "id": "6f3cda89",
   "metadata": {},
   "outputs": [
    {
     "name": "stdout",
     "output_type": "stream",
     "text": [
      "Pi:  {'20F', '40F', '20E', '40E'}\n",
      "M:  range(1, 5)\n"
     ]
    }
   ],
   "source": [
    "# Define the set of container types (Pi) and vehicle types (M)\n",
    "Pi = set([\"20E\", \"20F\", \"40E\", \"40F\"])\n",
    "M = range(1, 5)\n",
    "print('Pi: ', Pi)\n",
    "print('M: ', M)"
   ]
  },
  {
   "cell_type": "code",
   "execution_count": 5,
   "id": "0676c916",
   "metadata": {},
   "outputs": [],
   "source": [
    "# Define the set of container sizes (H)\n",
    "H = set([20, 40])"
   ]
  },
  {
   "cell_type": "code",
   "execution_count": 6,
   "id": "51304e05",
   "metadata": {},
   "outputs": [],
   "source": [
    "# Define the capacity of each vehicle type\n",
    "Cap = {\n",
    "    (1, 20): 1,\n",
    "    (2, 20): 2,\n",
    "    (3, 40): 1,\n",
    "    (4, 20): 1,\n",
    "    (4, 40): 1\n",
    "}"
   ]
  },
  {
   "cell_type": "code",
   "execution_count": 7,
   "id": "d6dec366",
   "metadata": {},
   "outputs": [],
   "source": [
    "# the number of full container pickup requests \n",
    "f = 2\n",
    "# the number of empty container pickup requests\n",
    "p = 2\n",
    "# the number of empty container dropoff requests \n",
    "d = 2\n",
    "# the number of AFS\n",
    "s = 2\n",
    "# data type. \n",
    "data_type = 'B'\n",
    "# the sample number (determines which distances are used)\n",
    "n = 1"
   ]
  },
  {
   "cell_type": "code",
   "execution_count": 8,
   "id": "1125d49e",
   "metadata": {},
   "outputs": [
    {
     "data": {
      "text/plain": [
       "'data/2f2p2d2sB/'"
      ]
     },
     "execution_count": 8,
     "metadata": {},
     "output_type": "execute_result"
    }
   ],
   "source": [
    "input_init_data = (str(f) + 'f' + str(p)  + 'p' + str(d) + 'd' + str(s) + 's'+ data_type + '/')\n",
    "common_path = 'data/' + input_init_data\n",
    "common_path"
   ]
  },
  {
   "cell_type": "code",
   "execution_count": 9,
   "id": "1bc20c32",
   "metadata": {},
   "outputs": [
    {
     "data": {
      "text/plain": [
       "'data/2f2p2d2sB/2f2p2d2s1nB.txt'"
      ]
     },
     "execution_count": 9,
     "metadata": {},
     "output_type": "execute_result"
    }
   ],
   "source": [
    "data_path = common_path + (str(f) + 'f' + str(p)  + 'p' + str(d) + \\\n",
    "                           'd' + str(s) + 's'+ str(n) + 'n' + data_type + '.txt')\n",
    "data_path"
   ]
  },
  {
   "cell_type": "code",
   "execution_count": 10,
   "id": "a6b08026",
   "metadata": {},
   "outputs": [],
   "source": [
    "names=['NumNodes', \"NumPicNodes\", \"NumTrucks\", \"NumStations\", \n",
    "       \"NumPicFull\", \"NumPicEmpty\", \"NumDelEmpty\", \"Tmax\", \"DistanceMatrix\"]"
   ]
  },
  {
   "cell_type": "code",
   "execution_count": 11,
   "id": "8d122b1c",
   "metadata": {},
   "outputs": [
    {
     "data": {
      "text/html": [
       "<div>\n",
       "<style scoped>\n",
       "    .dataframe tbody tr th:only-of-type {\n",
       "        vertical-align: middle;\n",
       "    }\n",
       "\n",
       "    .dataframe tbody tr th {\n",
       "        vertical-align: top;\n",
       "    }\n",
       "\n",
       "    .dataframe thead th {\n",
       "        text-align: right;\n",
       "    }\n",
       "</style>\n",
       "<table border=\"1\" class=\"dataframe\">\n",
       "  <thead>\n",
       "    <tr style=\"text-align: right;\">\n",
       "      <th></th>\n",
       "      <th>NumNodes</th>\n",
       "      <th>NumPicNodes</th>\n",
       "      <th>NumTrucks</th>\n",
       "      <th>NumStations</th>\n",
       "      <th>NumPicFull</th>\n",
       "      <th>NumPicEmpty</th>\n",
       "      <th>NumDelEmpty</th>\n",
       "      <th>Tmax</th>\n",
       "      <th>DistanceMatrix</th>\n",
       "    </tr>\n",
       "  </thead>\n",
       "  <tbody>\n",
       "    <tr>\n",
       "      <th>1</th>\n",
       "      <td>8</td>\n",
       "      <td>4</td>\n",
       "      <td>4</td>\n",
       "      <td>2</td>\n",
       "      <td>2</td>\n",
       "      <td>2</td>\n",
       "      <td>2</td>\n",
       "      <td>900</td>\n",
       "      <td>1</td>\n",
       "    </tr>\n",
       "    <tr>\n",
       "      <th>2</th>\n",
       "      <td>8</td>\n",
       "      <td>4</td>\n",
       "      <td>6</td>\n",
       "      <td>2</td>\n",
       "      <td>2</td>\n",
       "      <td>2</td>\n",
       "      <td>2</td>\n",
       "      <td>900</td>\n",
       "      <td>1</td>\n",
       "    </tr>\n",
       "    <tr>\n",
       "      <th>3</th>\n",
       "      <td>8</td>\n",
       "      <td>4</td>\n",
       "      <td>8</td>\n",
       "      <td>2</td>\n",
       "      <td>2</td>\n",
       "      <td>2</td>\n",
       "      <td>2</td>\n",
       "      <td>900</td>\n",
       "      <td>1</td>\n",
       "    </tr>\n",
       "    <tr>\n",
       "      <th>4</th>\n",
       "      <td>8</td>\n",
       "      <td>4</td>\n",
       "      <td>4</td>\n",
       "      <td>2</td>\n",
       "      <td>2</td>\n",
       "      <td>2</td>\n",
       "      <td>2</td>\n",
       "      <td>1000</td>\n",
       "      <td>1</td>\n",
       "    </tr>\n",
       "    <tr>\n",
       "      <th>5</th>\n",
       "      <td>8</td>\n",
       "      <td>4</td>\n",
       "      <td>6</td>\n",
       "      <td>2</td>\n",
       "      <td>2</td>\n",
       "      <td>2</td>\n",
       "      <td>2</td>\n",
       "      <td>1000</td>\n",
       "      <td>1</td>\n",
       "    </tr>\n",
       "    <tr>\n",
       "      <th>6</th>\n",
       "      <td>8</td>\n",
       "      <td>4</td>\n",
       "      <td>8</td>\n",
       "      <td>2</td>\n",
       "      <td>2</td>\n",
       "      <td>2</td>\n",
       "      <td>2</td>\n",
       "      <td>1000</td>\n",
       "      <td>1</td>\n",
       "    </tr>\n",
       "  </tbody>\n",
       "</table>\n",
       "</div>"
      ],
      "text/plain": [
       "   NumNodes  NumPicNodes  NumTrucks  NumStations  NumPicFull  NumPicEmpty  \\\n",
       "1         8            4          4            2           2            2   \n",
       "2         8            4          6            2           2            2   \n",
       "3         8            4          8            2           2            2   \n",
       "4         8            4          4            2           2            2   \n",
       "5         8            4          6            2           2            2   \n",
       "6         8            4          8            2           2            2   \n",
       "\n",
       "   NumDelEmpty  Tmax  DistanceMatrix  \n",
       "1            2   900               1  \n",
       "2            2   900               1  \n",
       "3            2   900               1  \n",
       "4            2  1000               1  \n",
       "5            2  1000               1  \n",
       "6            2  1000               1  "
      ]
     },
     "execution_count": 11,
     "metadata": {},
     "output_type": "execute_result"
    }
   ],
   "source": [
    "df = pd.read_fwf(data_path, \n",
    "                 header=None,\n",
    "                 names=names, skiprows=1)\n",
    "df.index += 1 \n",
    "df"
   ]
  },
  {
   "cell_type": "code",
   "execution_count": 12,
   "id": "fb6eb422",
   "metadata": {},
   "outputs": [
    {
     "name": "stdout",
     "output_type": "stream",
     "text": [
      "NumNodes: 8\n",
      "NumTrucks: 6\n",
      "Tmax: 900\n"
     ]
    }
   ],
   "source": [
    "NumNodes = df.iloc[0].NumNodes\n",
    "print('NumNodes:', NumNodes)\n",
    "NumTrucks = df.iloc[1].NumTrucks\n",
    "print('NumTrucks:', NumTrucks)\n",
    "Tmax = df.iloc[0].Tmax\n",
    "print('Tmax:', Tmax)"
   ]
  },
  {
   "cell_type": "code",
   "execution_count": 13,
   "id": "7e17431d",
   "metadata": {},
   "outputs": [
    {
     "data": {
      "text/plain": [
       "'data/2f2p2d2sB/DistanceMatrix2_F2_P2_D_2S_No1.txt'"
      ]
     },
     "execution_count": 13,
     "metadata": {},
     "output_type": "execute_result"
    }
   ],
   "source": [
    "distance_matrix_path = common_path + 'DistanceMatrix2_' + ( 'F' + str(f)  + '_P' + str(2) +\\\n",
    "                           '_D_' + str(s) + 'S_No'+ str(n) + '.txt')\n",
    "distance_matrix_path"
   ]
  },
  {
   "cell_type": "code",
   "execution_count": 14,
   "id": "4236cccd",
   "metadata": {
    "scrolled": true
   },
   "outputs": [
    {
     "name": "stdout",
     "output_type": "stream",
     "text": [
      "Distance Matrix:\n"
     ]
    },
    {
     "data": {
      "text/html": [
       "<div>\n",
       "<style scoped>\n",
       "    .dataframe tbody tr th:only-of-type {\n",
       "        vertical-align: middle;\n",
       "    }\n",
       "\n",
       "    .dataframe tbody tr th {\n",
       "        vertical-align: top;\n",
       "    }\n",
       "\n",
       "    .dataframe thead th {\n",
       "        text-align: right;\n",
       "    }\n",
       "</style>\n",
       "<table border=\"1\" class=\"dataframe\">\n",
       "  <thead>\n",
       "    <tr style=\"text-align: right;\">\n",
       "      <th></th>\n",
       "      <th>0</th>\n",
       "      <th>1</th>\n",
       "      <th>2</th>\n",
       "      <th>3</th>\n",
       "      <th>4</th>\n",
       "      <th>5</th>\n",
       "      <th>6</th>\n",
       "      <th>7</th>\n",
       "      <th>8</th>\n",
       "      <th>9</th>\n",
       "      <th>10</th>\n",
       "      <th>11</th>\n",
       "    </tr>\n",
       "  </thead>\n",
       "  <tbody>\n",
       "    <tr>\n",
       "      <th>0</th>\n",
       "      <td>0</td>\n",
       "      <td>95</td>\n",
       "      <td>218</td>\n",
       "      <td>158</td>\n",
       "      <td>158</td>\n",
       "      <td>81</td>\n",
       "      <td>72</td>\n",
       "      <td>48</td>\n",
       "      <td>149</td>\n",
       "      <td>86</td>\n",
       "      <td>161</td>\n",
       "      <td>0</td>\n",
       "    </tr>\n",
       "    <tr>\n",
       "      <th>1</th>\n",
       "      <td>95</td>\n",
       "      <td>0</td>\n",
       "      <td>123</td>\n",
       "      <td>139</td>\n",
       "      <td>139</td>\n",
       "      <td>18</td>\n",
       "      <td>88</td>\n",
       "      <td>89</td>\n",
       "      <td>139</td>\n",
       "      <td>9</td>\n",
       "      <td>69</td>\n",
       "      <td>95</td>\n",
       "    </tr>\n",
       "    <tr>\n",
       "      <th>2</th>\n",
       "      <td>218</td>\n",
       "      <td>124</td>\n",
       "      <td>0</td>\n",
       "      <td>199</td>\n",
       "      <td>199</td>\n",
       "      <td>138</td>\n",
       "      <td>195</td>\n",
       "      <td>205</td>\n",
       "      <td>208</td>\n",
       "      <td>132</td>\n",
       "      <td>65</td>\n",
       "      <td>218</td>\n",
       "    </tr>\n",
       "    <tr>\n",
       "      <th>3</th>\n",
       "      <td>158</td>\n",
       "      <td>139</td>\n",
       "      <td>199</td>\n",
       "      <td>0</td>\n",
       "      <td>0</td>\n",
       "      <td>127</td>\n",
       "      <td>86</td>\n",
       "      <td>111</td>\n",
       "      <td>15</td>\n",
       "      <td>138</td>\n",
       "      <td>185</td>\n",
       "      <td>158</td>\n",
       "    </tr>\n",
       "    <tr>\n",
       "      <th>4</th>\n",
       "      <td>158</td>\n",
       "      <td>139</td>\n",
       "      <td>199</td>\n",
       "      <td>0</td>\n",
       "      <td>0</td>\n",
       "      <td>127</td>\n",
       "      <td>86</td>\n",
       "      <td>111</td>\n",
       "      <td>15</td>\n",
       "      <td>138</td>\n",
       "      <td>185</td>\n",
       "      <td>158</td>\n",
       "    </tr>\n",
       "    <tr>\n",
       "      <th>5</th>\n",
       "      <td>81</td>\n",
       "      <td>18</td>\n",
       "      <td>138</td>\n",
       "      <td>127</td>\n",
       "      <td>127</td>\n",
       "      <td>0</td>\n",
       "      <td>70</td>\n",
       "      <td>71</td>\n",
       "      <td>126</td>\n",
       "      <td>12</td>\n",
       "      <td>87</td>\n",
       "      <td>81</td>\n",
       "    </tr>\n",
       "    <tr>\n",
       "      <th>6</th>\n",
       "      <td>72</td>\n",
       "      <td>88</td>\n",
       "      <td>195</td>\n",
       "      <td>86</td>\n",
       "      <td>86</td>\n",
       "      <td>70</td>\n",
       "      <td>0</td>\n",
       "      <td>25</td>\n",
       "      <td>78</td>\n",
       "      <td>81</td>\n",
       "      <td>154</td>\n",
       "      <td>72</td>\n",
       "    </tr>\n",
       "    <tr>\n",
       "      <th>7</th>\n",
       "      <td>48</td>\n",
       "      <td>89</td>\n",
       "      <td>205</td>\n",
       "      <td>111</td>\n",
       "      <td>111</td>\n",
       "      <td>71</td>\n",
       "      <td>25</td>\n",
       "      <td>0</td>\n",
       "      <td>101</td>\n",
       "      <td>81</td>\n",
       "      <td>158</td>\n",
       "      <td>48</td>\n",
       "    </tr>\n",
       "    <tr>\n",
       "      <th>8</th>\n",
       "      <td>149</td>\n",
       "      <td>139</td>\n",
       "      <td>208</td>\n",
       "      <td>15</td>\n",
       "      <td>15</td>\n",
       "      <td>126</td>\n",
       "      <td>78</td>\n",
       "      <td>101</td>\n",
       "      <td>0</td>\n",
       "      <td>137</td>\n",
       "      <td>190</td>\n",
       "      <td>149</td>\n",
       "    </tr>\n",
       "    <tr>\n",
       "      <th>9</th>\n",
       "      <td>86</td>\n",
       "      <td>9</td>\n",
       "      <td>132</td>\n",
       "      <td>138</td>\n",
       "      <td>138</td>\n",
       "      <td>12</td>\n",
       "      <td>81</td>\n",
       "      <td>81</td>\n",
       "      <td>137</td>\n",
       "      <td>0</td>\n",
       "      <td>78</td>\n",
       "      <td>86</td>\n",
       "    </tr>\n",
       "    <tr>\n",
       "      <th>10</th>\n",
       "      <td>161</td>\n",
       "      <td>69</td>\n",
       "      <td>65</td>\n",
       "      <td>185</td>\n",
       "      <td>185</td>\n",
       "      <td>87</td>\n",
       "      <td>154</td>\n",
       "      <td>158</td>\n",
       "      <td>190</td>\n",
       "      <td>78</td>\n",
       "      <td>0</td>\n",
       "      <td>161</td>\n",
       "    </tr>\n",
       "    <tr>\n",
       "      <th>11</th>\n",
       "      <td>0</td>\n",
       "      <td>95</td>\n",
       "      <td>218</td>\n",
       "      <td>158</td>\n",
       "      <td>158</td>\n",
       "      <td>81</td>\n",
       "      <td>72</td>\n",
       "      <td>48</td>\n",
       "      <td>149</td>\n",
       "      <td>86</td>\n",
       "      <td>161</td>\n",
       "      <td>0</td>\n",
       "    </tr>\n",
       "  </tbody>\n",
       "</table>\n",
       "</div>"
      ],
      "text/plain": [
       "     0    1    2    3    4    5    6    7    8    9    10   11\n",
       "0     0   95  218  158  158   81   72   48  149   86  161    0\n",
       "1    95    0  123  139  139   18   88   89  139    9   69   95\n",
       "2   218  124    0  199  199  138  195  205  208  132   65  218\n",
       "3   158  139  199    0    0  127   86  111   15  138  185  158\n",
       "4   158  139  199    0    0  127   86  111   15  138  185  158\n",
       "5    81   18  138  127  127    0   70   71  126   12   87   81\n",
       "6    72   88  195   86   86   70    0   25   78   81  154   72\n",
       "7    48   89  205  111  111   71   25    0  101   81  158   48\n",
       "8   149  139  208   15   15  126   78  101    0  137  190  149\n",
       "9    86    9  132  138  138   12   81   81  137    0   78   86\n",
       "10  161   69   65  185  185   87  154  158  190   78    0  161\n",
       "11    0   95  218  158  158   81   72   48  149   86  161    0"
      ]
     },
     "execution_count": 14,
     "metadata": {},
     "output_type": "execute_result"
    }
   ],
   "source": [
    "DistanceMatrix = pd.read_csv(distance_matrix_path, delimiter=\"\\t\", header=None,)\n",
    "print('Distance Matrix:')\n",
    "DistanceMatrix"
   ]
  },
  {
   "cell_type": "code",
   "execution_count": 15,
   "id": "1851e5d2",
   "metadata": {},
   "outputs": [
    {
     "data": {
      "text/plain": [
       "'data/2f2p2d2sB/TimeMatrix2_F2_P2_D_2S_No1.txt'"
      ]
     },
     "execution_count": 15,
     "metadata": {},
     "output_type": "execute_result"
    }
   ],
   "source": [
    "time_matrix_path = common_path + 'TimeMatrix2_' + ( 'F' + str(f)  + '_P' + str(2) +\\\n",
    "                           '_D_' + str(s) + 'S_No'+ str(n) + '.txt')\n",
    "time_matrix_path"
   ]
  },
  {
   "cell_type": "markdown",
   "id": "127ee4ca",
   "metadata": {},
   "source": [
    "The road network is given by a pair $(N,Q)$, where $N$ and $Q$ are the set of nodes  and arcs, respectively. The node set $N$ represents client locations that supply and demand  containers, a unique departure depot, a unique arrival depot and vehicle refuel locations."
   ]
  },
  {
   "cell_type": "code",
   "execution_count": 16,
   "id": "75d9802c",
   "metadata": {},
   "outputs": [
    {
     "name": "stdout",
     "output_type": "stream",
     "text": [
      "N: 12\n"
     ]
    }
   ],
   "source": [
    "N = DistanceMatrix.shape[0]\n",
    "print(\"N:\", N)"
   ]
  },
  {
   "cell_type": "markdown",
   "id": "3e4a6568",
   "metadata": {},
   "source": [
    "Each node $i\\in N$ is associated with a *node time window* $[a_i,b_i]$, $0\\le a_i<b_i\\le T$, within which operations at this node must be performed."
   ]
  },
  {
   "cell_type": "code",
   "execution_count": 17,
   "id": "ee1d8bbe",
   "metadata": {},
   "outputs": [
    {
     "data": {
      "text/plain": [
       "'data/2f2p2d2sB/variables8_N900_T2_P_No1.txt'"
      ]
     },
     "execution_count": 17,
     "metadata": {},
     "output_type": "execute_result"
    }
   ],
   "source": [
    "node_time_window_path = common_path + \"variables\" + str(NumNodes) + \"_N\" + str(Tmax) + \"_T\" \\\n",
    "                        + str(f) + '_P_No' + str(n) + '.txt'\n",
    "node_time_window_path"
   ]
  },
  {
   "cell_type": "code",
   "execution_count": 18,
   "id": "92605363",
   "metadata": {},
   "outputs": [],
   "source": [
    "# service time = "
   ]
  },
  {
   "cell_type": "code",
   "execution_count": 19,
   "id": "3b2d8ec2",
   "metadata": {},
   "outputs": [
    {
     "data": {
      "text/html": [
       "<div>\n",
       "<style scoped>\n",
       "    .dataframe tbody tr th:only-of-type {\n",
       "        vertical-align: middle;\n",
       "    }\n",
       "\n",
       "    .dataframe tbody tr th {\n",
       "        vertical-align: top;\n",
       "    }\n",
       "\n",
       "    .dataframe thead th {\n",
       "        text-align: right;\n",
       "    }\n",
       "</style>\n",
       "<table border=\"1\" class=\"dataframe\">\n",
       "  <thead>\n",
       "    <tr style=\"text-align: right;\">\n",
       "      <th></th>\n",
       "      <th>0</th>\n",
       "      <th>1</th>\n",
       "      <th>2</th>\n",
       "      <th>3</th>\n",
       "      <th>4</th>\n",
       "      <th>5</th>\n",
       "      <th>6</th>\n",
       "      <th>7</th>\n",
       "      <th>8</th>\n",
       "    </tr>\n",
       "  </thead>\n",
       "  <tbody>\n",
       "    <tr>\n",
       "      <th>0</th>\n",
       "      <td>0</td>\n",
       "      <td>10</td>\n",
       "      <td>10</td>\n",
       "      <td>10</td>\n",
       "      <td>10</td>\n",
       "      <td>10</td>\n",
       "      <td>10</td>\n",
       "      <td>10</td>\n",
       "      <td>10.0</td>\n",
       "    </tr>\n",
       "    <tr>\n",
       "      <th>1</th>\n",
       "      <td>290</td>\n",
       "      <td>295</td>\n",
       "      <td>296</td>\n",
       "      <td>300</td>\n",
       "      <td>401</td>\n",
       "      <td>402</td>\n",
       "      <td>403</td>\n",
       "      <td>404</td>\n",
       "      <td>NaN</td>\n",
       "    </tr>\n",
       "    <tr>\n",
       "      <th>2</th>\n",
       "      <td>350</td>\n",
       "      <td>480</td>\n",
       "      <td>490</td>\n",
       "      <td>500</td>\n",
       "      <td>861</td>\n",
       "      <td>802</td>\n",
       "      <td>802</td>\n",
       "      <td>804</td>\n",
       "      <td>NaN</td>\n",
       "    </tr>\n",
       "  </tbody>\n",
       "</table>\n",
       "</div>"
      ],
      "text/plain": [
       "     0    1    2    3    4    5    6    7     8\n",
       "0    0   10   10   10   10   10   10   10  10.0\n",
       "1  290  295  296  300  401  402  403  404   NaN\n",
       "2  350  480  490  500  861  802  802  804   NaN"
      ]
     },
     "execution_count": 19,
     "metadata": {},
     "output_type": "execute_result"
    }
   ],
   "source": [
    "node_time_window = pd.read_csv(node_time_window_path, delimiter=\" \", header=None)\n",
    "node_time_window"
   ]
  },
  {
   "cell_type": "code",
   "execution_count": 20,
   "id": "8777f5c8",
   "metadata": {},
   "outputs": [],
   "source": [
    "service_time = node_time_window.iloc[0][1]\n",
    "service_time\n",
    "assert service_time == 10"
   ]
  },
  {
   "cell_type": "code",
   "execution_count": 21,
   "id": "1f7f3409",
   "metadata": {},
   "outputs": [
    {
     "data": {
      "text/html": [
       "<div>\n",
       "<style scoped>\n",
       "    .dataframe tbody tr th:only-of-type {\n",
       "        vertical-align: middle;\n",
       "    }\n",
       "\n",
       "    .dataframe tbody tr th {\n",
       "        vertical-align: top;\n",
       "    }\n",
       "\n",
       "    .dataframe thead th {\n",
       "        text-align: right;\n",
       "    }\n",
       "</style>\n",
       "<table border=\"1\" class=\"dataframe\">\n",
       "  <thead>\n",
       "    <tr style=\"text-align: right;\">\n",
       "      <th></th>\n",
       "      <th>0</th>\n",
       "      <th>1</th>\n",
       "      <th>2</th>\n",
       "      <th>3</th>\n",
       "      <th>4</th>\n",
       "      <th>5</th>\n",
       "      <th>6</th>\n",
       "      <th>7</th>\n",
       "    </tr>\n",
       "  </thead>\n",
       "  <tbody>\n",
       "    <tr>\n",
       "      <th>1</th>\n",
       "      <td>290</td>\n",
       "      <td>295</td>\n",
       "      <td>296</td>\n",
       "      <td>300</td>\n",
       "      <td>401</td>\n",
       "      <td>402</td>\n",
       "      <td>403</td>\n",
       "      <td>404</td>\n",
       "    </tr>\n",
       "    <tr>\n",
       "      <th>2</th>\n",
       "      <td>350</td>\n",
       "      <td>480</td>\n",
       "      <td>490</td>\n",
       "      <td>500</td>\n",
       "      <td>861</td>\n",
       "      <td>802</td>\n",
       "      <td>802</td>\n",
       "      <td>804</td>\n",
       "    </tr>\n",
       "  </tbody>\n",
       "</table>\n",
       "</div>"
      ],
      "text/plain": [
       "     0    1    2    3    4    5    6    7\n",
       "1  290  295  296  300  401  402  403  404\n",
       "2  350  480  490  500  861  802  802  804"
      ]
     },
     "execution_count": 21,
     "metadata": {},
     "output_type": "execute_result"
    }
   ],
   "source": [
    "node_time_window.iloc[1:3, 0:-1]"
   ]
  },
  {
   "cell_type": "code",
   "execution_count": 22,
   "id": "11058c40",
   "metadata": {},
   "outputs": [
    {
     "data": {
      "text/html": [
       "<div>\n",
       "<style scoped>\n",
       "    .dataframe tbody tr th:only-of-type {\n",
       "        vertical-align: middle;\n",
       "    }\n",
       "\n",
       "    .dataframe tbody tr th {\n",
       "        vertical-align: top;\n",
       "    }\n",
       "\n",
       "    .dataframe thead th {\n",
       "        text-align: right;\n",
       "    }\n",
       "</style>\n",
       "<table border=\"1\" class=\"dataframe\">\n",
       "  <thead>\n",
       "    <tr style=\"text-align: right;\">\n",
       "      <th></th>\n",
       "      <th>0</th>\n",
       "      <th>1</th>\n",
       "      <th>2</th>\n",
       "      <th>3</th>\n",
       "      <th>4</th>\n",
       "      <th>5</th>\n",
       "      <th>6</th>\n",
       "      <th>7</th>\n",
       "      <th>8</th>\n",
       "      <th>9</th>\n",
       "      <th>10</th>\n",
       "      <th>11</th>\n",
       "    </tr>\n",
       "  </thead>\n",
       "  <tbody>\n",
       "    <tr>\n",
       "      <th>0</th>\n",
       "      <td>0.0</td>\n",
       "      <td>290.0</td>\n",
       "      <td>295.0</td>\n",
       "      <td>296.0</td>\n",
       "      <td>300.0</td>\n",
       "      <td>401.0</td>\n",
       "      <td>402.0</td>\n",
       "      <td>403.0</td>\n",
       "      <td>404.0</td>\n",
       "      <td>0.0</td>\n",
       "      <td>0.0</td>\n",
       "      <td>0.0</td>\n",
       "    </tr>\n",
       "  </tbody>\n",
       "</table>\n",
       "</div>"
      ],
      "text/plain": [
       "    0      1      2      3      4      5      6      7      8    9    10   11\n",
       "0  0.0  290.0  295.0  296.0  300.0  401.0  402.0  403.0  404.0  0.0  0.0  0.0"
      ]
     },
     "execution_count": 22,
     "metadata": {},
     "output_type": "execute_result"
    }
   ],
   "source": [
    "a = np.full(N, np.nan)\n",
    "for i in range(1, NumNodes+1):\n",
    "    a[i] = node_time_window.iloc[1, i-1]\n",
    "a[0] = 0\n",
    "a[NumNodes+1: N] = 0\n",
    "a = pd.DataFrame(a.reshape(1,-1), columns=range(N))\n",
    "a"
   ]
  },
  {
   "cell_type": "code",
   "execution_count": 23,
   "id": "42952062",
   "metadata": {},
   "outputs": [
    {
     "data": {
      "text/html": [
       "<div>\n",
       "<style scoped>\n",
       "    .dataframe tbody tr th:only-of-type {\n",
       "        vertical-align: middle;\n",
       "    }\n",
       "\n",
       "    .dataframe tbody tr th {\n",
       "        vertical-align: top;\n",
       "    }\n",
       "\n",
       "    .dataframe thead th {\n",
       "        text-align: right;\n",
       "    }\n",
       "</style>\n",
       "<table border=\"1\" class=\"dataframe\">\n",
       "  <thead>\n",
       "    <tr style=\"text-align: right;\">\n",
       "      <th></th>\n",
       "      <th>0</th>\n",
       "      <th>1</th>\n",
       "      <th>2</th>\n",
       "      <th>3</th>\n",
       "      <th>4</th>\n",
       "      <th>5</th>\n",
       "      <th>6</th>\n",
       "      <th>7</th>\n",
       "      <th>8</th>\n",
       "      <th>9</th>\n",
       "      <th>10</th>\n",
       "      <th>11</th>\n",
       "    </tr>\n",
       "  </thead>\n",
       "  <tbody>\n",
       "    <tr>\n",
       "      <th>0</th>\n",
       "      <td>900.0</td>\n",
       "      <td>350.0</td>\n",
       "      <td>480.0</td>\n",
       "      <td>490.0</td>\n",
       "      <td>500.0</td>\n",
       "      <td>861.0</td>\n",
       "      <td>802.0</td>\n",
       "      <td>802.0</td>\n",
       "      <td>804.0</td>\n",
       "      <td>900.0</td>\n",
       "      <td>900.0</td>\n",
       "      <td>900.0</td>\n",
       "    </tr>\n",
       "  </tbody>\n",
       "</table>\n",
       "</div>"
      ],
      "text/plain": [
       "      0      1      2      3      4      5      6      7      8      9   \\\n",
       "0  900.0  350.0  480.0  490.0  500.0  861.0  802.0  802.0  804.0  900.0   \n",
       "\n",
       "      10     11  \n",
       "0  900.0  900.0  "
      ]
     },
     "execution_count": 23,
     "metadata": {},
     "output_type": "execute_result"
    }
   ],
   "source": [
    "b = np.full(N, np.nan)\n",
    "for i in range(1, NumNodes+1):\n",
    "     b[i] = node_time_window.iloc[2, i-1]\n",
    "b[0] = Tmax\n",
    "b[NumNodes+1: N] = Tmax\n",
    "b = pd.DataFrame(b.reshape(1,-1), columns=range(N))\n",
    "b"
   ]
  },
  {
   "cell_type": "markdown",
   "id": "6c4ee3ec",
   "metadata": {},
   "source": [
    "There is a *setup time\n",
    "p*, $0\\le 2p\\le \\min_{j\\in N}\\{b_j-a_j\\}$, which is needed to set up a vehicle for arrival to or departure from any node. Driving ranges of the fully charged vehicles are limited, and they need refueling (recharging) for continuous operation."
   ]
  },
  {
   "cell_type": "code",
   "execution_count": 24,
   "id": "05458ff3",
   "metadata": {},
   "outputs": [
    {
     "name": "stdout",
     "output_type": "stream",
     "text": [
      "setup_time: 5\n"
     ]
    }
   ],
   "source": [
    "# setup time p = 5 minutes\n",
    "setup_time = 5\n",
    "print('setup_time:', setup_time)"
   ]
  },
  {
   "cell_type": "code",
   "execution_count": 25,
   "id": "d19412cb",
   "metadata": {},
   "outputs": [],
   "source": [
    "assert (2 * setup_time <= np.min(b - a, axis=1)).all()"
   ]
  },
  {
   "cell_type": "markdown",
   "id": "0cebb0dd",
   "metadata": {},
   "source": [
    "Each vehicle $k$ of type $m\\in M$ is associated with a *vehicle time window* $[A_k,B_k]$, $0\\le A_k<B_k\\le T$, a fixed *activation* cost $c^{(a)}_m$, a *unit-drive-time* cost $c^{(t)}_m$,  and a *full-charge driving time range* $f_m$. "
   ]
  },
  {
   "cell_type": "code",
   "execution_count": 26,
   "id": "ea1613e8",
   "metadata": {},
   "outputs": [
    {
     "data": {
      "text/plain": [
       "'data/2f2p2d2sB/Resource6_T.txt'"
      ]
     },
     "execution_count": 26,
     "metadata": {},
     "output_type": "execute_result"
    }
   ],
   "source": [
    "resource_path = common_path + \"Resource\" + str(NumTrucks) + \"_T\" + '.txt'\n",
    "resource_path"
   ]
  },
  {
   "cell_type": "code",
   "execution_count": 27,
   "id": "b591d6c9",
   "metadata": {},
   "outputs": [
    {
     "data": {
      "text/html": [
       "<div>\n",
       "<style scoped>\n",
       "    .dataframe tbody tr th:only-of-type {\n",
       "        vertical-align: middle;\n",
       "    }\n",
       "\n",
       "    .dataframe tbody tr th {\n",
       "        vertical-align: top;\n",
       "    }\n",
       "\n",
       "    .dataframe thead th {\n",
       "        text-align: right;\n",
       "    }\n",
       "</style>\n",
       "<table border=\"1\" class=\"dataframe\">\n",
       "  <thead>\n",
       "    <tr style=\"text-align: right;\">\n",
       "      <th></th>\n",
       "      <th>0</th>\n",
       "      <th>1</th>\n",
       "    </tr>\n",
       "  </thead>\n",
       "  <tbody>\n",
       "    <tr>\n",
       "      <th>0</th>\n",
       "      <td>1</td>\n",
       "      <td>0</td>\n",
       "    </tr>\n",
       "    <tr>\n",
       "      <th>1</th>\n",
       "      <td>2</td>\n",
       "      <td>0</td>\n",
       "    </tr>\n",
       "    <tr>\n",
       "      <th>2</th>\n",
       "      <td>0</td>\n",
       "      <td>1</td>\n",
       "    </tr>\n",
       "    <tr>\n",
       "      <th>3</th>\n",
       "      <td>1</td>\n",
       "      <td>1</td>\n",
       "    </tr>\n",
       "    <tr>\n",
       "      <th>4</th>\n",
       "      <td>2</td>\n",
       "      <td>0</td>\n",
       "    </tr>\n",
       "    <tr>\n",
       "      <th>5</th>\n",
       "      <td>1</td>\n",
       "      <td>1</td>\n",
       "    </tr>\n",
       "  </tbody>\n",
       "</table>\n",
       "</div>"
      ],
      "text/plain": [
       "   0  1\n",
       "0  1  0\n",
       "1  2  0\n",
       "2  0  1\n",
       "3  1  1\n",
       "4  2  0\n",
       "5  1  1"
      ]
     },
     "execution_count": 27,
     "metadata": {},
     "output_type": "execute_result"
    }
   ],
   "source": [
    "resource = pd.read_csv(resource_path, delimiter=\" \", header=None)\n",
    "resource"
   ]
  },
  {
   "cell_type": "code",
   "execution_count": 28,
   "id": "75c4b271",
   "metadata": {},
   "outputs": [
    {
     "name": "stdout",
     "output_type": "stream",
     "text": [
      "k: [1, 2, 3, 4, 2, 4]\n"
     ]
    }
   ],
   "source": [
    "k = []\n",
    "for i in range(len(resource)):\n",
    "    if resource.iloc[i, 0] == 1 and resource.iloc[i, 1] == 0:\n",
    "        k.append(1)\n",
    "    if resource.iloc[i, 0] == 2 and resource.iloc[i, 1] == 0:\n",
    "        k.append(2)\n",
    "    if resource.iloc[i, 0] == 0 and resource.iloc[i, 1] == 1:\n",
    "        k.append(3)\n",
    "    if resource.iloc[i, 0] == 1 and resource.iloc[i, 1] == 1:\n",
    "        k.append(4)\n",
    "print('k:', k)"
   ]
  },
  {
   "cell_type": "code",
   "execution_count": 29,
   "id": "60a6aee8",
   "metadata": {},
   "outputs": [
    {
     "data": {
      "text/plain": [
       "{1: 1, 2: 2, 3: 3, 4: 4, 5: 2, 6: 4}"
      ]
     },
     "execution_count": 29,
     "metadata": {},
     "output_type": "execute_result"
    }
   ],
   "source": [
    "m_k = {}\n",
    "for item in range(len(k)):\n",
    "    m_k[item+1] = k[item]\n",
    "    \n",
    "m_k"
   ]
  },
  {
   "cell_type": "code",
   "execution_count": 30,
   "id": "e485cef6",
   "metadata": {},
   "outputs": [
    {
     "data": {
      "text/plain": [
       "[1, 2, 3, 4, 5, 6]"
      ]
     },
     "execution_count": 30,
     "metadata": {},
     "output_type": "execute_result"
    }
   ],
   "source": [
    "K = list(m_k.keys())\n",
    "K"
   ]
  },
  {
   "cell_type": "code",
   "execution_count": 31,
   "id": "c00858d1",
   "metadata": {},
   "outputs": [
    {
     "data": {
      "text/plain": [
       "4"
      ]
     },
     "execution_count": 31,
     "metadata": {},
     "output_type": "execute_result"
    }
   ],
   "source": [
    "m_k[6]"
   ]
  },
  {
   "cell_type": "code",
   "execution_count": null,
   "id": "edcdec63",
   "metadata": {},
   "outputs": [],
   "source": []
  },
  {
   "cell_type": "code",
   "execution_count": null,
   "id": "ba3aa9f7",
   "metadata": {},
   "outputs": [],
   "source": []
  },
  {
   "cell_type": "code",
   "execution_count": 32,
   "id": "b849574c",
   "metadata": {},
   "outputs": [
    {
     "data": {
      "text/html": [
       "<div>\n",
       "<style scoped>\n",
       "    .dataframe tbody tr th:only-of-type {\n",
       "        vertical-align: middle;\n",
       "    }\n",
       "\n",
       "    .dataframe tbody tr th {\n",
       "        vertical-align: top;\n",
       "    }\n",
       "\n",
       "    .dataframe thead th {\n",
       "        text-align: right;\n",
       "    }\n",
       "</style>\n",
       "<table border=\"1\" class=\"dataframe\">\n",
       "  <thead>\n",
       "    <tr style=\"text-align: right;\">\n",
       "      <th></th>\n",
       "      <th>1</th>\n",
       "      <th>2</th>\n",
       "      <th>3</th>\n",
       "      <th>4</th>\n",
       "      <th>5</th>\n",
       "      <th>6</th>\n",
       "    </tr>\n",
       "  </thead>\n",
       "  <tbody>\n",
       "    <tr>\n",
       "      <th>0</th>\n",
       "      <td>0.0</td>\n",
       "      <td>0.0</td>\n",
       "      <td>0.0</td>\n",
       "      <td>0.0</td>\n",
       "      <td>0.0</td>\n",
       "      <td>0.0</td>\n",
       "    </tr>\n",
       "  </tbody>\n",
       "</table>\n",
       "</div>"
      ],
      "text/plain": [
       "     1    2    3    4    5    6\n",
       "0  0.0  0.0  0.0  0.0  0.0  0.0"
      ]
     },
     "execution_count": 32,
     "metadata": {},
     "output_type": "execute_result"
    }
   ],
   "source": [
    "A = np.full(len(k), np.nan)\n",
    "B = np.full(len(k), np.nan)\n",
    "for i in range(0, len(k)):\n",
    "    A[i] = 0\n",
    "    B[i] = Tmax\n",
    "\n",
    "A = pd.DataFrame(A.reshape(1, -1), columns=range(1, len(k)+1))\n",
    "B = pd.DataFrame(B.reshape(1, -1), columns=range(1, len(k)+1))\n",
    "A"
   ]
  },
  {
   "cell_type": "code",
   "execution_count": 33,
   "id": "a5759ec4",
   "metadata": {},
   "outputs": [
    {
     "data": {
      "text/html": [
       "<div>\n",
       "<style scoped>\n",
       "    .dataframe tbody tr th:only-of-type {\n",
       "        vertical-align: middle;\n",
       "    }\n",
       "\n",
       "    .dataframe tbody tr th {\n",
       "        vertical-align: top;\n",
       "    }\n",
       "\n",
       "    .dataframe thead th {\n",
       "        text-align: right;\n",
       "    }\n",
       "</style>\n",
       "<table border=\"1\" class=\"dataframe\">\n",
       "  <thead>\n",
       "    <tr style=\"text-align: right;\">\n",
       "      <th></th>\n",
       "      <th>1</th>\n",
       "      <th>2</th>\n",
       "      <th>3</th>\n",
       "      <th>4</th>\n",
       "      <th>5</th>\n",
       "      <th>6</th>\n",
       "    </tr>\n",
       "  </thead>\n",
       "  <tbody>\n",
       "    <tr>\n",
       "      <th>0</th>\n",
       "      <td>900.0</td>\n",
       "      <td>900.0</td>\n",
       "      <td>900.0</td>\n",
       "      <td>900.0</td>\n",
       "      <td>900.0</td>\n",
       "      <td>900.0</td>\n",
       "    </tr>\n",
       "  </tbody>\n",
       "</table>\n",
       "</div>"
      ],
      "text/plain": [
       "       1      2      3      4      5      6\n",
       "0  900.0  900.0  900.0  900.0  900.0  900.0"
      ]
     },
     "execution_count": 33,
     "metadata": {},
     "output_type": "execute_result"
    }
   ],
   "source": [
    "B"
   ]
  },
  {
   "cell_type": "code",
   "execution_count": 34,
   "id": "0025c64c",
   "metadata": {},
   "outputs": [],
   "source": [
    "assert np.all(A >= 0) and np.all(A < B) and np.all(B <= Tmax)"
   ]
  },
  {
   "cell_type": "code",
   "execution_count": 35,
   "id": "8c1d37b6",
   "metadata": {},
   "outputs": [],
   "source": [
    "assert Tmax <= max(b.max().max(), B.max().max())"
   ]
  },
  {
   "cell_type": "code",
   "execution_count": 36,
   "id": "fc45773f",
   "metadata": {},
   "outputs": [
    {
     "data": {
      "text/plain": [
       "'data/2f2p2d2sB/FuelLevel6_T.txt'"
      ]
     },
     "execution_count": 36,
     "metadata": {},
     "output_type": "execute_result"
    }
   ],
   "source": [
    "fuel_level_path = common_path + \"FuelLevel\" + str(NumTrucks) + \"_T\" + '.txt'\n",
    "fuel_level_path"
   ]
  },
  {
   "cell_type": "code",
   "execution_count": 37,
   "id": "c34ca228",
   "metadata": {},
   "outputs": [
    {
     "data": {
      "text/html": [
       "<div>\n",
       "<style scoped>\n",
       "    .dataframe tbody tr th:only-of-type {\n",
       "        vertical-align: middle;\n",
       "    }\n",
       "\n",
       "    .dataframe tbody tr th {\n",
       "        vertical-align: top;\n",
       "    }\n",
       "\n",
       "    .dataframe thead th {\n",
       "        text-align: right;\n",
       "    }\n",
       "</style>\n",
       "<table border=\"1\" class=\"dataframe\">\n",
       "  <thead>\n",
       "    <tr style=\"text-align: right;\">\n",
       "      <th></th>\n",
       "      <th>0</th>\n",
       "      <th>1</th>\n",
       "      <th>2</th>\n",
       "      <th>3</th>\n",
       "      <th>4</th>\n",
       "      <th>5</th>\n",
       "    </tr>\n",
       "  </thead>\n",
       "  <tbody>\n",
       "    <tr>\n",
       "      <th>0</th>\n",
       "      <td>285</td>\n",
       "      <td>285</td>\n",
       "      <td>285</td>\n",
       "      <td>285</td>\n",
       "      <td>285</td>\n",
       "      <td>285</td>\n",
       "    </tr>\n",
       "  </tbody>\n",
       "</table>\n",
       "</div>"
      ],
      "text/plain": [
       "     0    1    2    3    4    5\n",
       "0  285  285  285  285  285  285"
      ]
     },
     "execution_count": 37,
     "metadata": {},
     "output_type": "execute_result"
    }
   ],
   "source": [
    "fuel_level = pd.read_csv(fuel_level_path, delimiter=\" \", header=None)\n",
    "fuel_level"
   ]
  },
  {
   "cell_type": "code",
   "execution_count": 38,
   "id": "eff15e62",
   "metadata": {},
   "outputs": [
    {
     "data": {
      "text/html": [
       "<div>\n",
       "<style scoped>\n",
       "    .dataframe tbody tr th:only-of-type {\n",
       "        vertical-align: middle;\n",
       "    }\n",
       "\n",
       "    .dataframe tbody tr th {\n",
       "        vertical-align: top;\n",
       "    }\n",
       "\n",
       "    .dataframe thead th {\n",
       "        text-align: right;\n",
       "    }\n",
       "</style>\n",
       "<table border=\"1\" class=\"dataframe\">\n",
       "  <thead>\n",
       "    <tr style=\"text-align: right;\">\n",
       "      <th></th>\n",
       "      <th>1</th>\n",
       "      <th>2</th>\n",
       "      <th>3</th>\n",
       "      <th>4</th>\n",
       "    </tr>\n",
       "  </thead>\n",
       "  <tbody>\n",
       "    <tr>\n",
       "      <th>0</th>\n",
       "      <td>10</td>\n",
       "      <td>10</td>\n",
       "      <td>10</td>\n",
       "      <td>10</td>\n",
       "    </tr>\n",
       "  </tbody>\n",
       "</table>\n",
       "</div>"
      ],
      "text/plain": [
       "    1   2   3   4\n",
       "0  10  10  10  10"
      ]
     },
     "execution_count": 38,
     "metadata": {},
     "output_type": "execute_result"
    }
   ],
   "source": [
    "# activation cost. The activation cost is applied once if the respective vehicle goes \n",
    "# from the departure depot to any node diﬀerent from the arrival depot.\n",
    "c_am = np.full(len(M), 10) \n",
    "c_am = pd.DataFrame(c_am.reshape(1, -1), columns=M)\n",
    "c_am"
   ]
  },
  {
   "cell_type": "code",
   "execution_count": 39,
   "id": "073130a9",
   "metadata": {},
   "outputs": [
    {
     "data": {
      "text/html": [
       "<div>\n",
       "<style scoped>\n",
       "    .dataframe tbody tr th:only-of-type {\n",
       "        vertical-align: middle;\n",
       "    }\n",
       "\n",
       "    .dataframe tbody tr th {\n",
       "        vertical-align: top;\n",
       "    }\n",
       "\n",
       "    .dataframe thead th {\n",
       "        text-align: right;\n",
       "    }\n",
       "</style>\n",
       "<table border=\"1\" class=\"dataframe\">\n",
       "  <thead>\n",
       "    <tr style=\"text-align: right;\">\n",
       "      <th></th>\n",
       "      <th>1</th>\n",
       "      <th>2</th>\n",
       "      <th>3</th>\n",
       "      <th>4</th>\n",
       "    </tr>\n",
       "  </thead>\n",
       "  <tbody>\n",
       "    <tr>\n",
       "      <th>0</th>\n",
       "      <td>10</td>\n",
       "      <td>10</td>\n",
       "      <td>10</td>\n",
       "      <td>10</td>\n",
       "    </tr>\n",
       "  </tbody>\n",
       "</table>\n",
       "</div>"
      ],
      "text/plain": [
       "    1   2   3   4\n",
       "0  10  10  10  10"
      ]
     },
     "execution_count": 39,
     "metadata": {},
     "output_type": "execute_result"
    }
   ],
   "source": [
    "# unit-drive-time. The unit-drive-time cost is applied for each unit of the driving time.\n",
    "c_tm = np.full(len(M), 10) \n",
    "c_tm = pd.DataFrame(c_tm.reshape(1, -1), columns=M)\n",
    "c_tm"
   ]
  },
  {
   "cell_type": "code",
   "execution_count": 40,
   "id": "8319623a",
   "metadata": {},
   "outputs": [
    {
     "data": {
      "text/html": [
       "<div>\n",
       "<style scoped>\n",
       "    .dataframe tbody tr th:only-of-type {\n",
       "        vertical-align: middle;\n",
       "    }\n",
       "\n",
       "    .dataframe tbody tr th {\n",
       "        vertical-align: top;\n",
       "    }\n",
       "\n",
       "    .dataframe thead th {\n",
       "        text-align: right;\n",
       "    }\n",
       "</style>\n",
       "<table border=\"1\" class=\"dataframe\">\n",
       "  <thead>\n",
       "    <tr style=\"text-align: right;\">\n",
       "      <th></th>\n",
       "      <th>1</th>\n",
       "      <th>2</th>\n",
       "      <th>3</th>\n",
       "      <th>4</th>\n",
       "    </tr>\n",
       "  </thead>\n",
       "  <tbody>\n",
       "    <tr>\n",
       "      <th>0</th>\n",
       "      <td>760.0</td>\n",
       "      <td>760.0</td>\n",
       "      <td>760.0</td>\n",
       "      <td>760.0</td>\n",
       "    </tr>\n",
       "  </tbody>\n",
       "</table>\n",
       "</div>"
      ],
      "text/plain": [
       "       1      2      3      4\n",
       "0  760.0  760.0  760.0  760.0"
      ]
     },
     "execution_count": 40,
     "metadata": {},
     "output_type": "execute_result"
    }
   ],
   "source": [
    "vehicle_speed = 50 # km/h\n",
    "# full-charge driving time range\n",
    "f_m = np.full(len(M), np.nan) \n",
    "for m in range(0, len(M)):\n",
    "    f_m[m] =  fuel_level[m].values[0] / 0.45  / 50 * 60\n",
    "    \n",
    "    \n",
    "f_m = pd.DataFrame(f_m.reshape(1, -1), columns=M) # in minutes\n",
    "f_m"
   ]
  },
  {
   "cell_type": "markdown",
   "id": "eb382d54",
   "metadata": {},
   "source": [
    "*initial drive time capacity* $O^0_k$ at the departure from the departure depot"
   ]
  },
  {
   "cell_type": "code",
   "execution_count": 41,
   "id": "f7426ab6",
   "metadata": {},
   "outputs": [
    {
     "data": {
      "text/plain": [
       "{1: 380.00000000000006,\n",
       " 2: 380.00000000000006,\n",
       " 3: 380.00000000000006,\n",
       " 4: 380.00000000000006,\n",
       " 5: 380.00000000000006,\n",
       " 6: 380.00000000000006}"
      ]
     },
     "execution_count": 41,
     "metadata": {},
     "output_type": "execute_result"
    }
   ],
   "source": [
    "# Assume that vehicle has the full bak in the departure depot (d_out).\n",
    "O_0k = {}\n",
    "for item in K:\n",
    "    truck_type = m_k[item]\n",
    "    # !!!!!!!!!!!!!!!!!!!!!!!!!!!!!!!!!!!!!!!!!!!\n",
    "    # O_0k[item] = f_m[truck_type].values[0]\n",
    "    O_0k[item] = f_m[truck_type].values[0] / 2\n",
    "    \n",
    "O_0k"
   ]
  },
  {
   "cell_type": "markdown",
   "id": "c24f7ea6",
   "metadata": {},
   "source": [
    "The node set $N$ is partitioned into the following disjoint subsets: a set $DE^{(H)}$  of empty $H$-foot container  demand nodes, a set $SE^{(H)}$  of empty $H$-foot container  supply nodes,  a set $DF^{(H)}$  of full $H$-foot container demand nodes, a set $SF^{(H)}$  of full $H$-foot container  supply nodes, $H\\in\\{20,40\\}$, a set $R$ of \n",
    "*refuel* nodes, the departure depot node $d^{out}$ and the arrival depot node $d^{in}$."
   ]
  },
  {
   "cell_type": "code",
   "execution_count": 42,
   "id": "bc863702",
   "metadata": {},
   "outputs": [
    {
     "data": {
      "text/plain": [
       "Int64Index([1, 2], dtype='int64')"
      ]
     },
     "execution_count": 42,
     "metadata": {},
     "output_type": "execute_result"
    }
   ],
   "source": [
    "# a set of full H-foot container  supply nodes: SF_H(supply = pick up)\n",
    "# full container pickup requests (FP).\n",
    "SF_H = DistanceMatrix.columns[1: 1+f]\n",
    "SF_H"
   ]
  },
  {
   "cell_type": "code",
   "execution_count": 43,
   "id": "0813362b",
   "metadata": {},
   "outputs": [
    {
     "data": {
      "text/plain": [
       "Int64Index([3, 4], dtype='int64')"
      ]
     },
     "execution_count": 43,
     "metadata": {},
     "output_type": "execute_result"
    }
   ],
   "source": [
    "# a set of empty H-foot container supply nodes: SE_H (supply = pick up)\n",
    "# empty container pickup requests (EP)\n",
    "SE_H = DistanceMatrix.columns[1 + len(SF_H): 1+ len(SF_H)+f]\n",
    "SE_H"
   ]
  },
  {
   "cell_type": "code",
   "execution_count": 44,
   "id": "a7d068fa",
   "metadata": {},
   "outputs": [
    {
     "data": {
      "text/plain": [
       "Int64Index([9, 10], dtype='int64')"
      ]
     },
     "execution_count": 44,
     "metadata": {},
     "output_type": "execute_result"
    }
   ],
   "source": [
    "# a set of refuel nodes\n",
    "R = DistanceMatrix.columns[-(s+1): -1]\n",
    "R"
   ]
  },
  {
   "cell_type": "code",
   "execution_count": 45,
   "id": "5b1a1e75",
   "metadata": {},
   "outputs": [
    {
     "data": {
      "text/plain": [
       "Int64Index([7, 8], dtype='int64')"
      ]
     },
     "execution_count": 45,
     "metadata": {},
     "output_type": "execute_result"
    }
   ],
   "source": [
    "# a set of empty H-foot container demand nodes (demand = drop off)\n",
    "# ED - empty container dropoff requests (in Sezgi article)\n",
    "tmp = 1 + len(R)\n",
    "DE_H = DistanceMatrix.columns[-(tmp+d): -tmp]\n",
    "DE_H"
   ]
  },
  {
   "cell_type": "code",
   "execution_count": 46,
   "id": "ea515435",
   "metadata": {},
   "outputs": [
    {
     "data": {
      "text/plain": [
       "Int64Index([5, 6], dtype='int64')"
      ]
     },
     "execution_count": 46,
     "metadata": {},
     "output_type": "execute_result"
    }
   ],
   "source": [
    "# a set of full H-foot container demand nodes (demand = drop off)\n",
    "# full container dropoff requests (FD)\n",
    "tmp = 1 + len(R) + len(DE_H)\n",
    "DF_H = DistanceMatrix.columns[-(tmp+p): -tmp]\n",
    "DF_H"
   ]
  },
  {
   "cell_type": "code",
   "execution_count": 47,
   "id": "a8782047",
   "metadata": {},
   "outputs": [
    {
     "name": "stdout",
     "output_type": "stream",
     "text": [
      "d_out 0\n"
     ]
    }
   ],
   "source": [
    "# the departure depot node\n",
    "d_out = DistanceMatrix.columns[0]\n",
    "print('d_out', d_out)"
   ]
  },
  {
   "cell_type": "code",
   "execution_count": 48,
   "id": "45fa08c5",
   "metadata": {},
   "outputs": [
    {
     "name": "stdout",
     "output_type": "stream",
     "text": [
      "d_in: 11\n"
     ]
    }
   ],
   "source": [
    "# the arrival depot node\n",
    "d_in = DistanceMatrix.columns[-1]\n",
    "print('d_in:', d_in)"
   ]
  },
  {
   "cell_type": "code",
   "execution_count": 49,
   "id": "0e361cea",
   "metadata": {},
   "outputs": [
    {
     "name": "stdout",
     "output_type": "stream",
     "text": [
      "SF:  {40: Int64Index([1, 2], dtype='int64'), 20: Int64Index([1, 2], dtype='int64')}\n",
      "SE: {40: Int64Index([3, 4], dtype='int64'), 20: Int64Index([3, 4], dtype='int64')}\n",
      "DE: {40: Int64Index([7, 8], dtype='int64'), 20: Int64Index([7, 8], dtype='int64')}\n",
      "DF: {40: Int64Index([5, 6], dtype='int64'), 20: Int64Index([5, 6], dtype='int64')}\n"
     ]
    }
   ],
   "source": [
    "SF = {h: SF_H for h in H}\n",
    "SE = {h: SE_H for h in H}\n",
    "DE = {h: DE_H for h in H}\n",
    "DF = {h: DF_H for h in H}\n",
    "print('SF: ', SF)\n",
    "print('SE:', SE)\n",
    "print('DE:', DE)\n",
    "print('DF:', DF)"
   ]
  },
  {
   "cell_type": "code",
   "execution_count": 50,
   "id": "60177354",
   "metadata": {},
   "outputs": [],
   "source": [
    "assert d_in > d_out, \"d_in must be greater than d_out\""
   ]
  },
  {
   "cell_type": "code",
   "execution_count": 51,
   "id": "291502e2",
   "metadata": {},
   "outputs": [
    {
     "data": {
      "text/plain": [
       "array([ 0,  1,  2,  3,  4,  5,  6,  7,  8,  9, 10, 11])"
      ]
     },
     "execution_count": 51,
     "metadata": {},
     "output_type": "execute_result"
    }
   ],
   "source": [
    "all_nodes = np.sort(np.concatenate((SF_H, SE_H, DF_H, DE_H , R , [d_out], [d_in])))\n",
    "all_nodes"
   ]
  },
  {
   "cell_type": "code",
   "execution_count": 52,
   "id": "bd154b90",
   "metadata": {},
   "outputs": [],
   "source": [
    "assert len(all_nodes) == len(DistanceMatrix.columns), \"Length of concatenated array is not equal to DistanceMatrix\"\n",
    "assert all(elem in DistanceMatrix.columns for elem in all_nodes), \"Concatenated array does not contain same elements as DistanceMatrix\"\n",
    "assert all(elem in all_nodes for elem in DistanceMatrix.columns), \"DistanceMatrix does not contain same elements as concatenated array\""
   ]
  },
  {
   "cell_type": "markdown",
   "id": "dd23e607",
   "metadata": {},
   "source": [
    "It is convenient to introduce the set $C=\\cup_{H\\in\\{20,40\\}}(DE^{(H)}\\cup SE^{(H)}\\cup DF^{(H)}\\cup SF^{(H)})$ of *client nodes*."
   ]
  },
  {
   "cell_type": "code",
   "execution_count": 53,
   "id": "9a5df7b8",
   "metadata": {},
   "outputs": [
    {
     "name": "stdout",
     "output_type": "stream",
     "text": [
      "C: [1 2 3 4 5 6 7 8]\n"
     ]
    }
   ],
   "source": [
    "C = np.array(list(set().union(*DE.values(), *SE.values(), *DF.values(), *SF.values())))\n",
    "\n",
    "print(\"C:\", C)"
   ]
  },
  {
   "cell_type": "markdown",
   "id": "06b19571",
   "metadata": {},
   "source": [
    "We have $Q=\\{(i,j)\\mid i\\in C\\cup R\\cup\\{d^{out}\\}, j\\in C\\cup R\\cup\\{d^{in}\\}{\\color{blue}\\cup\\{d^{out}\\}}, i\\ne j\\}$."
   ]
  },
  {
   "cell_type": "code",
   "execution_count": 54,
   "id": "1b51779d",
   "metadata": {},
   "outputs": [],
   "source": [
    "def get_Q(C, R, d_out, d_in):\n",
    "    return [(i, j) for i in set(C).union(R, {d_out}) for j in set(C).union(R, {d_in}, {d_out}) if i != j]\n",
    "Q = get_Q(C, R, d_out, d_in)"
   ]
  },
  {
   "cell_type": "markdown",
   "id": "3d41bcd3",
   "metadata": {},
   "source": [
    " Each arc $(i,j)\\in Q$ is associated with a *drive time* $t_{ijm}$ of an $m$-type vehicle, $m\\in M$, which is needed for such a vehicle to drive from node $i$ to node $j$. For the arc linking the depot nodes, we define $t_{d^{out}d^{in}m}=0$, $m\\in M$. We assume without loss of generality that $(i,j)\\in Q$ implies $t_{ijm}\\le f_m$ for at least one $m\\in M$ because otherwise no vehicle can drive along the arc $(i,j)$. "
   ]
  },
  {
   "cell_type": "code",
   "execution_count": 55,
   "id": "eb7d3ec6",
   "metadata": {},
   "outputs": [
    {
     "data": {
      "text/plain": [
       "{1: 1, 2: 2, 3: 3, 4: 4, 5: 2, 6: 4}"
      ]
     },
     "execution_count": 55,
     "metadata": {},
     "output_type": "execute_result"
    }
   ],
   "source": [
    "m_k"
   ]
  },
  {
   "cell_type": "code",
   "execution_count": 56,
   "id": "a5430d7b",
   "metadata": {},
   "outputs": [
    {
     "data": {
      "text/plain": [
       "{(0, 1, 1): 114.0,\n",
       " (0, 1, 2): 114.0,\n",
       " (0, 1, 3): 114.0,\n",
       " (0, 1, 4): 114.0,\n",
       " (0, 2, 1): 261.6,\n",
       " (0, 2, 2): 261.6,\n",
       " (0, 2, 3): 261.6,\n",
       " (0, 2, 4): 261.6,\n",
       " (0, 3, 1): 189.60000000000002,\n",
       " (0, 3, 2): 189.60000000000002,\n",
       " (0, 3, 3): 189.60000000000002,\n",
       " (0, 3, 4): 189.60000000000002,\n",
       " (0, 4, 1): 189.60000000000002,\n",
       " (0, 4, 2): 189.60000000000002,\n",
       " (0, 4, 3): 189.60000000000002,\n",
       " (0, 4, 4): 189.60000000000002,\n",
       " (0, 5, 1): 97.2,\n",
       " (0, 5, 2): 97.2,\n",
       " (0, 5, 3): 97.2,\n",
       " (0, 5, 4): 97.2,\n",
       " (0, 6, 1): 86.39999999999999,\n",
       " (0, 6, 2): 86.39999999999999,\n",
       " (0, 6, 3): 86.39999999999999,\n",
       " (0, 6, 4): 86.39999999999999,\n",
       " (0, 7, 1): 57.599999999999994,\n",
       " (0, 7, 2): 57.599999999999994,\n",
       " (0, 7, 3): 57.599999999999994,\n",
       " (0, 7, 4): 57.599999999999994,\n",
       " (0, 8, 1): 178.8,\n",
       " (0, 8, 2): 178.8,\n",
       " (0, 8, 3): 178.8,\n",
       " (0, 8, 4): 178.8,\n",
       " (0, 9, 1): 103.2,\n",
       " (0, 9, 2): 103.2,\n",
       " (0, 9, 3): 103.2,\n",
       " (0, 9, 4): 103.2,\n",
       " (0, 10, 1): 193.20000000000002,\n",
       " (0, 10, 2): 193.20000000000002,\n",
       " (0, 10, 3): 193.20000000000002,\n",
       " (0, 10, 4): 193.20000000000002,\n",
       " (0, 11, 1): 0.0,\n",
       " (0, 11, 2): 0.0,\n",
       " (0, 11, 3): 0.0,\n",
       " (0, 11, 4): 0.0,\n",
       " (1, 0, 1): 114.0,\n",
       " (1, 0, 2): 114.0,\n",
       " (1, 0, 3): 114.0,\n",
       " (1, 0, 4): 114.0,\n",
       " (1, 2, 1): 148.8,\n",
       " (1, 2, 2): 148.8,\n",
       " (1, 2, 3): 148.8,\n",
       " (1, 2, 4): 148.8,\n",
       " (1, 3, 1): 166.79999999999998,\n",
       " (1, 3, 2): 166.79999999999998,\n",
       " (1, 3, 3): 166.79999999999998,\n",
       " (1, 3, 4): 166.79999999999998,\n",
       " (1, 4, 1): 166.79999999999998,\n",
       " (1, 4, 2): 166.79999999999998,\n",
       " (1, 4, 3): 166.79999999999998,\n",
       " (1, 4, 4): 166.79999999999998,\n",
       " (1, 5, 1): 21.599999999999998,\n",
       " (1, 5, 2): 21.599999999999998,\n",
       " (1, 5, 3): 21.599999999999998,\n",
       " (1, 5, 4): 21.599999999999998,\n",
       " (1, 6, 1): 105.6,\n",
       " (1, 6, 2): 105.6,\n",
       " (1, 6, 3): 105.6,\n",
       " (1, 6, 4): 105.6,\n",
       " (1, 7, 1): 106.8,\n",
       " (1, 7, 2): 106.8,\n",
       " (1, 7, 3): 106.8,\n",
       " (1, 7, 4): 106.8,\n",
       " (1, 8, 1): 166.79999999999998,\n",
       " (1, 8, 2): 166.79999999999998,\n",
       " (1, 8, 3): 166.79999999999998,\n",
       " (1, 8, 4): 166.79999999999998,\n",
       " (1, 9, 1): 10.799999999999999,\n",
       " (1, 9, 2): 10.799999999999999,\n",
       " (1, 9, 3): 10.799999999999999,\n",
       " (1, 9, 4): 10.799999999999999,\n",
       " (1, 10, 1): 82.8,\n",
       " (1, 10, 2): 82.8,\n",
       " (1, 10, 3): 82.8,\n",
       " (1, 10, 4): 82.8,\n",
       " (1, 11, 1): 114.0,\n",
       " (1, 11, 2): 114.0,\n",
       " (1, 11, 3): 114.0,\n",
       " (1, 11, 4): 114.0,\n",
       " (2, 0, 1): 261.6,\n",
       " (2, 0, 2): 261.6,\n",
       " (2, 0, 3): 261.6,\n",
       " (2, 0, 4): 261.6,\n",
       " (2, 1, 1): 147.6,\n",
       " (2, 1, 2): 147.6,\n",
       " (2, 1, 3): 147.6,\n",
       " (2, 1, 4): 147.6,\n",
       " (2, 3, 1): 238.8,\n",
       " (2, 3, 2): 238.8,\n",
       " (2, 3, 3): 238.8,\n",
       " (2, 3, 4): 238.8,\n",
       " (2, 4, 1): 238.8,\n",
       " (2, 4, 2): 238.8,\n",
       " (2, 4, 3): 238.8,\n",
       " (2, 4, 4): 238.8,\n",
       " (2, 5, 1): 165.6,\n",
       " (2, 5, 2): 165.6,\n",
       " (2, 5, 3): 165.6,\n",
       " (2, 5, 4): 165.6,\n",
       " (2, 6, 1): 234.0,\n",
       " (2, 6, 2): 234.0,\n",
       " (2, 6, 3): 234.0,\n",
       " (2, 6, 4): 234.0,\n",
       " (2, 7, 1): 245.99999999999997,\n",
       " (2, 7, 2): 245.99999999999997,\n",
       " (2, 7, 3): 245.99999999999997,\n",
       " (2, 7, 4): 245.99999999999997,\n",
       " (2, 8, 1): 249.60000000000002,\n",
       " (2, 8, 2): 249.60000000000002,\n",
       " (2, 8, 3): 249.60000000000002,\n",
       " (2, 8, 4): 249.60000000000002,\n",
       " (2, 9, 1): 158.4,\n",
       " (2, 9, 2): 158.4,\n",
       " (2, 9, 3): 158.4,\n",
       " (2, 9, 4): 158.4,\n",
       " (2, 10, 1): 78.0,\n",
       " (2, 10, 2): 78.0,\n",
       " (2, 10, 3): 78.0,\n",
       " (2, 10, 4): 78.0,\n",
       " (2, 11, 1): 261.6,\n",
       " (2, 11, 2): 261.6,\n",
       " (2, 11, 3): 261.6,\n",
       " (2, 11, 4): 261.6,\n",
       " (3, 0, 1): 189.60000000000002,\n",
       " (3, 0, 2): 189.60000000000002,\n",
       " (3, 0, 3): 189.60000000000002,\n",
       " (3, 0, 4): 189.60000000000002,\n",
       " (3, 1, 1): 166.79999999999998,\n",
       " (3, 1, 2): 166.79999999999998,\n",
       " (3, 1, 3): 166.79999999999998,\n",
       " (3, 1, 4): 166.79999999999998,\n",
       " (3, 2, 1): 238.8,\n",
       " (3, 2, 2): 238.8,\n",
       " (3, 2, 3): 238.8,\n",
       " (3, 2, 4): 238.8,\n",
       " (3, 4, 1): 0.0,\n",
       " (3, 4, 2): 0.0,\n",
       " (3, 4, 3): 0.0,\n",
       " (3, 4, 4): 0.0,\n",
       " (3, 5, 1): 152.4,\n",
       " (3, 5, 2): 152.4,\n",
       " (3, 5, 3): 152.4,\n",
       " (3, 5, 4): 152.4,\n",
       " (3, 6, 1): 103.2,\n",
       " (3, 6, 2): 103.2,\n",
       " (3, 6, 3): 103.2,\n",
       " (3, 6, 4): 103.2,\n",
       " (3, 7, 1): 133.20000000000002,\n",
       " (3, 7, 2): 133.20000000000002,\n",
       " (3, 7, 3): 133.20000000000002,\n",
       " (3, 7, 4): 133.20000000000002,\n",
       " (3, 8, 1): 18.0,\n",
       " (3, 8, 2): 18.0,\n",
       " (3, 8, 3): 18.0,\n",
       " (3, 8, 4): 18.0,\n",
       " (3, 9, 1): 165.6,\n",
       " (3, 9, 2): 165.6,\n",
       " (3, 9, 3): 165.6,\n",
       " (3, 9, 4): 165.6,\n",
       " (3, 10, 1): 222.0,\n",
       " (3, 10, 2): 222.0,\n",
       " (3, 10, 3): 222.0,\n",
       " (3, 10, 4): 222.0,\n",
       " (3, 11, 1): 189.60000000000002,\n",
       " (3, 11, 2): 189.60000000000002,\n",
       " (3, 11, 3): 189.60000000000002,\n",
       " (3, 11, 4): 189.60000000000002,\n",
       " (4, 0, 1): 189.60000000000002,\n",
       " (4, 0, 2): 189.60000000000002,\n",
       " (4, 0, 3): 189.60000000000002,\n",
       " (4, 0, 4): 189.60000000000002,\n",
       " (4, 1, 1): 166.79999999999998,\n",
       " (4, 1, 2): 166.79999999999998,\n",
       " (4, 1, 3): 166.79999999999998,\n",
       " (4, 1, 4): 166.79999999999998,\n",
       " (4, 2, 1): 238.8,\n",
       " (4, 2, 2): 238.8,\n",
       " (4, 2, 3): 238.8,\n",
       " (4, 2, 4): 238.8,\n",
       " (4, 3, 1): 0.0,\n",
       " (4, 3, 2): 0.0,\n",
       " (4, 3, 3): 0.0,\n",
       " (4, 3, 4): 0.0,\n",
       " (4, 5, 1): 152.4,\n",
       " (4, 5, 2): 152.4,\n",
       " (4, 5, 3): 152.4,\n",
       " (4, 5, 4): 152.4,\n",
       " (4, 6, 1): 103.2,\n",
       " (4, 6, 2): 103.2,\n",
       " (4, 6, 3): 103.2,\n",
       " (4, 6, 4): 103.2,\n",
       " (4, 7, 1): 133.20000000000002,\n",
       " (4, 7, 2): 133.20000000000002,\n",
       " (4, 7, 3): 133.20000000000002,\n",
       " (4, 7, 4): 133.20000000000002,\n",
       " (4, 8, 1): 18.0,\n",
       " (4, 8, 2): 18.0,\n",
       " (4, 8, 3): 18.0,\n",
       " (4, 8, 4): 18.0,\n",
       " (4, 9, 1): 165.6,\n",
       " (4, 9, 2): 165.6,\n",
       " (4, 9, 3): 165.6,\n",
       " (4, 9, 4): 165.6,\n",
       " (4, 10, 1): 222.0,\n",
       " (4, 10, 2): 222.0,\n",
       " (4, 10, 3): 222.0,\n",
       " (4, 10, 4): 222.0,\n",
       " (4, 11, 1): 189.60000000000002,\n",
       " (4, 11, 2): 189.60000000000002,\n",
       " (4, 11, 3): 189.60000000000002,\n",
       " (4, 11, 4): 189.60000000000002,\n",
       " (5, 0, 1): 97.2,\n",
       " (5, 0, 2): 97.2,\n",
       " (5, 0, 3): 97.2,\n",
       " (5, 0, 4): 97.2,\n",
       " (5, 1, 1): 21.599999999999998,\n",
       " (5, 1, 2): 21.599999999999998,\n",
       " (5, 1, 3): 21.599999999999998,\n",
       " (5, 1, 4): 21.599999999999998,\n",
       " (5, 2, 1): 165.6,\n",
       " (5, 2, 2): 165.6,\n",
       " (5, 2, 3): 165.6,\n",
       " (5, 2, 4): 165.6,\n",
       " (5, 3, 1): 152.4,\n",
       " (5, 3, 2): 152.4,\n",
       " (5, 3, 3): 152.4,\n",
       " (5, 3, 4): 152.4,\n",
       " (5, 4, 1): 152.4,\n",
       " (5, 4, 2): 152.4,\n",
       " (5, 4, 3): 152.4,\n",
       " (5, 4, 4): 152.4,\n",
       " (5, 6, 1): 84.0,\n",
       " (5, 6, 2): 84.0,\n",
       " (5, 6, 3): 84.0,\n",
       " (5, 6, 4): 84.0,\n",
       " (5, 7, 1): 85.19999999999999,\n",
       " (5, 7, 2): 85.19999999999999,\n",
       " (5, 7, 3): 85.19999999999999,\n",
       " (5, 7, 4): 85.19999999999999,\n",
       " (5, 8, 1): 151.2,\n",
       " (5, 8, 2): 151.2,\n",
       " (5, 8, 3): 151.2,\n",
       " (5, 8, 4): 151.2,\n",
       " (5, 9, 1): 14.399999999999999,\n",
       " (5, 9, 2): 14.399999999999999,\n",
       " (5, 9, 3): 14.399999999999999,\n",
       " (5, 9, 4): 14.399999999999999,\n",
       " (5, 10, 1): 104.4,\n",
       " (5, 10, 2): 104.4,\n",
       " (5, 10, 3): 104.4,\n",
       " (5, 10, 4): 104.4,\n",
       " (5, 11, 1): 97.2,\n",
       " (5, 11, 2): 97.2,\n",
       " (5, 11, 3): 97.2,\n",
       " (5, 11, 4): 97.2,\n",
       " (6, 0, 1): 86.39999999999999,\n",
       " (6, 0, 2): 86.39999999999999,\n",
       " (6, 0, 3): 86.39999999999999,\n",
       " (6, 0, 4): 86.39999999999999,\n",
       " (6, 1, 1): 105.6,\n",
       " (6, 1, 2): 105.6,\n",
       " (6, 1, 3): 105.6,\n",
       " (6, 1, 4): 105.6,\n",
       " (6, 2, 1): 234.0,\n",
       " (6, 2, 2): 234.0,\n",
       " (6, 2, 3): 234.0,\n",
       " (6, 2, 4): 234.0,\n",
       " (6, 3, 1): 103.2,\n",
       " (6, 3, 2): 103.2,\n",
       " (6, 3, 3): 103.2,\n",
       " (6, 3, 4): 103.2,\n",
       " (6, 4, 1): 103.2,\n",
       " (6, 4, 2): 103.2,\n",
       " (6, 4, 3): 103.2,\n",
       " (6, 4, 4): 103.2,\n",
       " (6, 5, 1): 84.0,\n",
       " (6, 5, 2): 84.0,\n",
       " (6, 5, 3): 84.0,\n",
       " (6, 5, 4): 84.0,\n",
       " (6, 7, 1): 30.0,\n",
       " (6, 7, 2): 30.0,\n",
       " (6, 7, 3): 30.0,\n",
       " (6, 7, 4): 30.0,\n",
       " (6, 8, 1): 93.60000000000001,\n",
       " (6, 8, 2): 93.60000000000001,\n",
       " (6, 8, 3): 93.60000000000001,\n",
       " (6, 8, 4): 93.60000000000001,\n",
       " (6, 9, 1): 97.2,\n",
       " (6, 9, 2): 97.2,\n",
       " (6, 9, 3): 97.2,\n",
       " (6, 9, 4): 97.2,\n",
       " (6, 10, 1): 184.8,\n",
       " (6, 10, 2): 184.8,\n",
       " (6, 10, 3): 184.8,\n",
       " (6, 10, 4): 184.8,\n",
       " (6, 11, 1): 86.39999999999999,\n",
       " (6, 11, 2): 86.39999999999999,\n",
       " (6, 11, 3): 86.39999999999999,\n",
       " (6, 11, 4): 86.39999999999999,\n",
       " (7, 0, 1): 57.599999999999994,\n",
       " (7, 0, 2): 57.599999999999994,\n",
       " (7, 0, 3): 57.599999999999994,\n",
       " (7, 0, 4): 57.599999999999994,\n",
       " (7, 1, 1): 106.8,\n",
       " (7, 1, 2): 106.8,\n",
       " (7, 1, 3): 106.8,\n",
       " (7, 1, 4): 106.8,\n",
       " (7, 2, 1): 245.99999999999997,\n",
       " (7, 2, 2): 245.99999999999997,\n",
       " (7, 2, 3): 245.99999999999997,\n",
       " (7, 2, 4): 245.99999999999997,\n",
       " (7, 3, 1): 133.20000000000002,\n",
       " (7, 3, 2): 133.20000000000002,\n",
       " (7, 3, 3): 133.20000000000002,\n",
       " (7, 3, 4): 133.20000000000002,\n",
       " (7, 4, 1): 133.20000000000002,\n",
       " (7, 4, 2): 133.20000000000002,\n",
       " (7, 4, 3): 133.20000000000002,\n",
       " (7, 4, 4): 133.20000000000002,\n",
       " (7, 5, 1): 85.19999999999999,\n",
       " (7, 5, 2): 85.19999999999999,\n",
       " (7, 5, 3): 85.19999999999999,\n",
       " (7, 5, 4): 85.19999999999999,\n",
       " (7, 6, 1): 30.0,\n",
       " (7, 6, 2): 30.0,\n",
       " (7, 6, 3): 30.0,\n",
       " (7, 6, 4): 30.0,\n",
       " (7, 8, 1): 121.2,\n",
       " (7, 8, 2): 121.2,\n",
       " (7, 8, 3): 121.2,\n",
       " (7, 8, 4): 121.2,\n",
       " (7, 9, 1): 97.2,\n",
       " (7, 9, 2): 97.2,\n",
       " (7, 9, 3): 97.2,\n",
       " (7, 9, 4): 97.2,\n",
       " (7, 10, 1): 189.60000000000002,\n",
       " (7, 10, 2): 189.60000000000002,\n",
       " (7, 10, 3): 189.60000000000002,\n",
       " (7, 10, 4): 189.60000000000002,\n",
       " (7, 11, 1): 57.599999999999994,\n",
       " (7, 11, 2): 57.599999999999994,\n",
       " (7, 11, 3): 57.599999999999994,\n",
       " (7, 11, 4): 57.599999999999994,\n",
       " (8, 0, 1): 178.8,\n",
       " (8, 0, 2): 178.8,\n",
       " (8, 0, 3): 178.8,\n",
       " (8, 0, 4): 178.8,\n",
       " (8, 1, 1): 166.79999999999998,\n",
       " (8, 1, 2): 166.79999999999998,\n",
       " (8, 1, 3): 166.79999999999998,\n",
       " (8, 1, 4): 166.79999999999998,\n",
       " (8, 2, 1): 249.60000000000002,\n",
       " (8, 2, 2): 249.60000000000002,\n",
       " (8, 2, 3): 249.60000000000002,\n",
       " (8, 2, 4): 249.60000000000002,\n",
       " (8, 3, 1): 18.0,\n",
       " (8, 3, 2): 18.0,\n",
       " (8, 3, 3): 18.0,\n",
       " (8, 3, 4): 18.0,\n",
       " (8, 4, 1): 18.0,\n",
       " (8, 4, 2): 18.0,\n",
       " (8, 4, 3): 18.0,\n",
       " (8, 4, 4): 18.0,\n",
       " (8, 5, 1): 151.2,\n",
       " (8, 5, 2): 151.2,\n",
       " (8, 5, 3): 151.2,\n",
       " (8, 5, 4): 151.2,\n",
       " (8, 6, 1): 93.60000000000001,\n",
       " (8, 6, 2): 93.60000000000001,\n",
       " (8, 6, 3): 93.60000000000001,\n",
       " (8, 6, 4): 93.60000000000001,\n",
       " (8, 7, 1): 121.2,\n",
       " (8, 7, 2): 121.2,\n",
       " (8, 7, 3): 121.2,\n",
       " (8, 7, 4): 121.2,\n",
       " (8, 9, 1): 164.4,\n",
       " (8, 9, 2): 164.4,\n",
       " (8, 9, 3): 164.4,\n",
       " (8, 9, 4): 164.4,\n",
       " (8, 10, 1): 228.0,\n",
       " (8, 10, 2): 228.0,\n",
       " (8, 10, 3): 228.0,\n",
       " (8, 10, 4): 228.0,\n",
       " (8, 11, 1): 178.8,\n",
       " (8, 11, 2): 178.8,\n",
       " (8, 11, 3): 178.8,\n",
       " (8, 11, 4): 178.8,\n",
       " (9, 0, 1): 103.2,\n",
       " (9, 0, 2): 103.2,\n",
       " (9, 0, 3): 103.2,\n",
       " (9, 0, 4): 103.2,\n",
       " (9, 1, 1): 10.799999999999999,\n",
       " (9, 1, 2): 10.799999999999999,\n",
       " (9, 1, 3): 10.799999999999999,\n",
       " (9, 1, 4): 10.799999999999999,\n",
       " (9, 2, 1): 158.4,\n",
       " (9, 2, 2): 158.4,\n",
       " (9, 2, 3): 158.4,\n",
       " (9, 2, 4): 158.4,\n",
       " (9, 3, 1): 165.6,\n",
       " (9, 3, 2): 165.6,\n",
       " (9, 3, 3): 165.6,\n",
       " (9, 3, 4): 165.6,\n",
       " (9, 4, 1): 165.6,\n",
       " (9, 4, 2): 165.6,\n",
       " (9, 4, 3): 165.6,\n",
       " (9, 4, 4): 165.6,\n",
       " (9, 5, 1): 14.399999999999999,\n",
       " (9, 5, 2): 14.399999999999999,\n",
       " (9, 5, 3): 14.399999999999999,\n",
       " (9, 5, 4): 14.399999999999999,\n",
       " (9, 6, 1): 97.2,\n",
       " (9, 6, 2): 97.2,\n",
       " (9, 6, 3): 97.2,\n",
       " (9, 6, 4): 97.2,\n",
       " (9, 7, 1): 97.2,\n",
       " (9, 7, 2): 97.2,\n",
       " (9, 7, 3): 97.2,\n",
       " (9, 7, 4): 97.2,\n",
       " (9, 8, 1): 164.4,\n",
       " (9, 8, 2): 164.4,\n",
       " (9, 8, 3): 164.4,\n",
       " (9, 8, 4): 164.4,\n",
       " (9, 10, 1): 93.60000000000001,\n",
       " (9, 10, 2): 93.60000000000001,\n",
       " (9, 10, 3): 93.60000000000001,\n",
       " (9, 10, 4): 93.60000000000001,\n",
       " (9, 11, 1): 103.2,\n",
       " (9, 11, 2): 103.2,\n",
       " (9, 11, 3): 103.2,\n",
       " (9, 11, 4): 103.2,\n",
       " (10, 0, 1): 193.20000000000002,\n",
       " (10, 0, 2): 193.20000000000002,\n",
       " (10, 0, 3): 193.20000000000002,\n",
       " (10, 0, 4): 193.20000000000002,\n",
       " (10, 1, 1): 82.8,\n",
       " (10, 1, 2): 82.8,\n",
       " (10, 1, 3): 82.8,\n",
       " (10, 1, 4): 82.8,\n",
       " (10, 2, 1): 78.0,\n",
       " (10, 2, 2): 78.0,\n",
       " (10, 2, 3): 78.0,\n",
       " (10, 2, 4): 78.0,\n",
       " (10, 3, 1): 222.0,\n",
       " (10, 3, 2): 222.0,\n",
       " (10, 3, 3): 222.0,\n",
       " (10, 3, 4): 222.0,\n",
       " (10, 4, 1): 222.0,\n",
       " (10, 4, 2): 222.0,\n",
       " (10, 4, 3): 222.0,\n",
       " (10, 4, 4): 222.0,\n",
       " (10, 5, 1): 104.4,\n",
       " (10, 5, 2): 104.4,\n",
       " (10, 5, 3): 104.4,\n",
       " (10, 5, 4): 104.4,\n",
       " (10, 6, 1): 184.8,\n",
       " (10, 6, 2): 184.8,\n",
       " (10, 6, 3): 184.8,\n",
       " (10, 6, 4): 184.8,\n",
       " (10, 7, 1): 189.60000000000002,\n",
       " (10, 7, 2): 189.60000000000002,\n",
       " (10, 7, 3): 189.60000000000002,\n",
       " (10, 7, 4): 189.60000000000002,\n",
       " (10, 8, 1): 228.0,\n",
       " (10, 8, 2): 228.0,\n",
       " (10, 8, 3): 228.0,\n",
       " (10, 8, 4): 228.0,\n",
       " (10, 9, 1): 93.60000000000001,\n",
       " (10, 9, 2): 93.60000000000001,\n",
       " (10, 9, 3): 93.60000000000001,\n",
       " (10, 9, 4): 93.60000000000001,\n",
       " (10, 11, 1): 193.20000000000002,\n",
       " (10, 11, 2): 193.20000000000002,\n",
       " (10, 11, 3): 193.20000000000002,\n",
       " (10, 11, 4): 193.20000000000002}"
      ]
     },
     "execution_count": 56,
     "metadata": {},
     "output_type": "execute_result"
    }
   ],
   "source": [
    "drive_time = DistanceMatrix / vehicle_speed * 60 # in minutes\n",
    "t = {(i, j, m): drive_time[i][j] for i, j in Q for m in M}\n",
    "# Check t[d_out][d_in][m] = 0\n",
    "assert all(t.get(d_out, {}).get(d_in, {}).get(m, 0) == 0 for m in M) \n",
    "# Check t[i][j][m] <= f_m for at least one m in M\n",
    "for i, j in Q:\n",
    "    assert any(t[(i,j,m)] <= f_m[m][0] for m in M)\n",
    "    \n",
    "t"
   ]
  },
  {
   "cell_type": "markdown",
   "id": "7fa440c4",
   "metadata": {},
   "source": [
    " Each refuel node $i\\in R$ is associated with the minimal refuel time $\\delta^{\\min}$ and the $m$-type vehicle *it refuel speeds* $e_{mi}$, $e_{mi}\\ge f_m/(b_i-a_i-2p)$, $m\\in M$. The refuel speed is measured in driving capacity time units per refuel time unit. For example, $e_{mi}=30$ means that 1 minute of refuel time adds 30 drive time minutes to the vehicle."
   ]
  },
  {
   "cell_type": "code",
   "execution_count": 57,
   "id": "c95e69ec",
   "metadata": {},
   "outputs": [
    {
     "name": "stdout",
     "output_type": "stream",
     "text": [
      "delta_min: 5\n"
     ]
    }
   ],
   "source": [
    "delta_min = 5 # minutes\n",
    "print('delta_min:', delta_min)"
   ]
  },
  {
   "cell_type": "code",
   "execution_count": 58,
   "id": "3f6ab2bd",
   "metadata": {},
   "outputs": [
    {
     "data": {
      "text/html": [
       "<div>\n",
       "<style scoped>\n",
       "    .dataframe tbody tr th:only-of-type {\n",
       "        vertical-align: middle;\n",
       "    }\n",
       "\n",
       "    .dataframe tbody tr th {\n",
       "        vertical-align: top;\n",
       "    }\n",
       "\n",
       "    .dataframe thead th {\n",
       "        text-align: right;\n",
       "    }\n",
       "</style>\n",
       "<table border=\"1\" class=\"dataframe\">\n",
       "  <thead>\n",
       "    <tr style=\"text-align: right;\">\n",
       "      <th></th>\n",
       "      <th>9</th>\n",
       "      <th>10</th>\n",
       "    </tr>\n",
       "  </thead>\n",
       "  <tbody>\n",
       "    <tr>\n",
       "      <th>1</th>\n",
       "      <td>26.666667</td>\n",
       "      <td>26.666667</td>\n",
       "    </tr>\n",
       "    <tr>\n",
       "      <th>2</th>\n",
       "      <td>26.666667</td>\n",
       "      <td>26.666667</td>\n",
       "    </tr>\n",
       "    <tr>\n",
       "      <th>3</th>\n",
       "      <td>26.666667</td>\n",
       "      <td>26.666667</td>\n",
       "    </tr>\n",
       "    <tr>\n",
       "      <th>4</th>\n",
       "      <td>26.666667</td>\n",
       "      <td>26.666667</td>\n",
       "    </tr>\n",
       "  </tbody>\n",
       "</table>\n",
       "</div>"
      ],
      "text/plain": [
       "          9          10\n",
       "1  26.666667  26.666667\n",
       "2  26.666667  26.666667\n",
       "3  26.666667  26.666667\n",
       "4  26.666667  26.666667"
      ]
     },
     "execution_count": 58,
     "metadata": {},
     "output_type": "execute_result"
    }
   ],
   "source": [
    "e_mi = pd.DataFrame(columns=R, index=M)\n",
    "for m in M:\n",
    "    for i in R:\n",
    "        e_mi.loc[m, i] = f_m.loc[:,m][0] / (0.1 * fuel_level[0][0])\n",
    "e_mi"
   ]
  },
  {
   "cell_type": "code",
   "execution_count": 59,
   "id": "3388164a",
   "metadata": {},
   "outputs": [
    {
     "data": {
      "text/plain": [
       "'data/2f2p2d2sB/demand2_F2_P2_D.txt'"
      ]
     },
     "execution_count": 59,
     "metadata": {},
     "output_type": "execute_result"
    }
   ],
   "source": [
    "demand_path = common_path + \"demand\" + str(f) + \"_F\" + str(p) + '_P' + str(d) + '_D.txt'\n",
    "demand_path"
   ]
  },
  {
   "cell_type": "code",
   "execution_count": 60,
   "id": "514d848a",
   "metadata": {},
   "outputs": [
    {
     "data": {
      "text/html": [
       "<div>\n",
       "<style scoped>\n",
       "    .dataframe tbody tr th:only-of-type {\n",
       "        vertical-align: middle;\n",
       "    }\n",
       "\n",
       "    .dataframe tbody tr th {\n",
       "        vertical-align: top;\n",
       "    }\n",
       "\n",
       "    .dataframe thead th {\n",
       "        text-align: right;\n",
       "    }\n",
       "</style>\n",
       "<table border=\"1\" class=\"dataframe\">\n",
       "  <thead>\n",
       "    <tr style=\"text-align: right;\">\n",
       "      <th></th>\n",
       "      <th>0</th>\n",
       "      <th>1</th>\n",
       "      <th>2</th>\n",
       "      <th>3</th>\n",
       "    </tr>\n",
       "  </thead>\n",
       "  <tbody>\n",
       "    <tr>\n",
       "      <th>1</th>\n",
       "      <td>1</td>\n",
       "      <td>0</td>\n",
       "      <td>0</td>\n",
       "      <td>0</td>\n",
       "    </tr>\n",
       "    <tr>\n",
       "      <th>2</th>\n",
       "      <td>1</td>\n",
       "      <td>0</td>\n",
       "      <td>0</td>\n",
       "      <td>0</td>\n",
       "    </tr>\n",
       "    <tr>\n",
       "      <th>3</th>\n",
       "      <td>0</td>\n",
       "      <td>1</td>\n",
       "      <td>0</td>\n",
       "      <td>0</td>\n",
       "    </tr>\n",
       "    <tr>\n",
       "      <th>4</th>\n",
       "      <td>0</td>\n",
       "      <td>1</td>\n",
       "      <td>0</td>\n",
       "      <td>0</td>\n",
       "    </tr>\n",
       "    <tr>\n",
       "      <th>5</th>\n",
       "      <td>-1</td>\n",
       "      <td>0</td>\n",
       "      <td>0</td>\n",
       "      <td>0</td>\n",
       "    </tr>\n",
       "    <tr>\n",
       "      <th>6</th>\n",
       "      <td>-1</td>\n",
       "      <td>0</td>\n",
       "      <td>0</td>\n",
       "      <td>0</td>\n",
       "    </tr>\n",
       "    <tr>\n",
       "      <th>7</th>\n",
       "      <td>0</td>\n",
       "      <td>-1</td>\n",
       "      <td>0</td>\n",
       "      <td>0</td>\n",
       "    </tr>\n",
       "    <tr>\n",
       "      <th>8</th>\n",
       "      <td>0</td>\n",
       "      <td>-1</td>\n",
       "      <td>0</td>\n",
       "      <td>0</td>\n",
       "    </tr>\n",
       "  </tbody>\n",
       "</table>\n",
       "</div>"
      ],
      "text/plain": [
       "   0  1  2  3\n",
       "1  1  0  0  0\n",
       "2  1  0  0  0\n",
       "3  0  1  0  0\n",
       "4  0  1  0  0\n",
       "5 -1  0  0  0\n",
       "6 -1  0  0  0\n",
       "7  0 -1  0  0\n",
       "8  0 -1  0  0"
      ]
     },
     "execution_count": 60,
     "metadata": {},
     "output_type": "execute_result"
    }
   ],
   "source": [
    "# columns: 0 - full 20foot, 1 - empty 20foot, 2 - full 40foot, 3 - empty 40foot\n",
    "# 1 - pick up / -1 - drop off\n",
    "demand = pd.read_csv(demand_path, delimiter=\"\\t\", header=None)\n",
    "demand.index +=1\n",
    "demand"
   ]
  },
  {
   "cell_type": "code",
   "execution_count": 61,
   "id": "ead5566c",
   "metadata": {},
   "outputs": [
    {
     "data": {
      "text/html": [
       "<div>\n",
       "<style scoped>\n",
       "    .dataframe tbody tr th:only-of-type {\n",
       "        vertical-align: middle;\n",
       "    }\n",
       "\n",
       "    .dataframe tbody tr th {\n",
       "        vertical-align: top;\n",
       "    }\n",
       "\n",
       "    .dataframe thead th {\n",
       "        text-align: right;\n",
       "    }\n",
       "</style>\n",
       "<table border=\"1\" class=\"dataframe\">\n",
       "  <thead>\n",
       "    <tr style=\"text-align: right;\">\n",
       "      <th></th>\n",
       "      <th>full 20</th>\n",
       "      <th>empty 20</th>\n",
       "      <th>full 40</th>\n",
       "      <th>empty 40</th>\n",
       "    </tr>\n",
       "  </thead>\n",
       "  <tbody>\n",
       "    <tr>\n",
       "      <th>1: (SF)</th>\n",
       "      <td>1</td>\n",
       "      <td>0</td>\n",
       "      <td>0</td>\n",
       "      <td>0</td>\n",
       "    </tr>\n",
       "    <tr>\n",
       "      <th>2: (SF)</th>\n",
       "      <td>1</td>\n",
       "      <td>0</td>\n",
       "      <td>0</td>\n",
       "      <td>0</td>\n",
       "    </tr>\n",
       "    <tr>\n",
       "      <th>3: (SE)</th>\n",
       "      <td>0</td>\n",
       "      <td>1</td>\n",
       "      <td>0</td>\n",
       "      <td>0</td>\n",
       "    </tr>\n",
       "    <tr>\n",
       "      <th>4: (SE)</th>\n",
       "      <td>0</td>\n",
       "      <td>1</td>\n",
       "      <td>0</td>\n",
       "      <td>0</td>\n",
       "    </tr>\n",
       "    <tr>\n",
       "      <th>5: (DF)</th>\n",
       "      <td>-1</td>\n",
       "      <td>0</td>\n",
       "      <td>0</td>\n",
       "      <td>0</td>\n",
       "    </tr>\n",
       "    <tr>\n",
       "      <th>6: (DF)</th>\n",
       "      <td>-1</td>\n",
       "      <td>0</td>\n",
       "      <td>0</td>\n",
       "      <td>0</td>\n",
       "    </tr>\n",
       "    <tr>\n",
       "      <th>7: (DE)</th>\n",
       "      <td>0</td>\n",
       "      <td>-1</td>\n",
       "      <td>0</td>\n",
       "      <td>0</td>\n",
       "    </tr>\n",
       "    <tr>\n",
       "      <th>8: (DE)</th>\n",
       "      <td>0</td>\n",
       "      <td>-1</td>\n",
       "      <td>0</td>\n",
       "      <td>0</td>\n",
       "    </tr>\n",
       "  </tbody>\n",
       "</table>\n",
       "</div>"
      ],
      "text/plain": [
       "         full 20  empty 20  full 40  empty 40\n",
       "1: (SF)        1         0        0         0\n",
       "2: (SF)        1         0        0         0\n",
       "3: (SE)        0         1        0         0\n",
       "4: (SE)        0         1        0         0\n",
       "5: (DF)       -1         0        0         0\n",
       "6: (DF)       -1         0        0         0\n",
       "7: (DE)        0        -1        0         0\n",
       "8: (DE)        0        -1        0         0"
      ]
     },
     "execution_count": 61,
     "metadata": {},
     "output_type": "execute_result"
    }
   ],
   "source": [
    "demand_explain = demand\n",
    "\n",
    "# Rename the columns\n",
    "demand_explain = demand_explain.rename(columns={0: 'full 20', 1: 'empty 20', 2: 'full 40', 3: 'empty 40'})\n",
    "\n",
    "# Rename the rows\n",
    "demand_explain = demand_explain.rename(index={1: '1: (SF)', 2: '2: (SF)', 3: '3: (SE)', 4: '4: (SE)', 5: '5: (DF)', 6: '6: (DF)', 7: '7: (DE)', 8: '8: (DE)'})\n",
    "demand_explain"
   ]
  },
  {
   "cell_type": "markdown",
   "id": "b5acd8b7",
   "metadata": {},
   "source": [
    "Each node $i\\in DE^{(H)}$ is associated with a demand quantity $d^{(H)}_i$ and each node $i\\in SE^{(H)}$ is associated with a supply quantity $s^{(H)}_i$ of empty $H$-foot containers, $H\\in\\{20,40\\}$."
   ]
  },
  {
   "cell_type": "code",
   "execution_count": 62,
   "id": "dde36c00",
   "metadata": {},
   "outputs": [
    {
     "data": {
      "text/html": [
       "<div>\n",
       "<style scoped>\n",
       "    .dataframe tbody tr th:only-of-type {\n",
       "        vertical-align: middle;\n",
       "    }\n",
       "\n",
       "    .dataframe tbody tr th {\n",
       "        vertical-align: top;\n",
       "    }\n",
       "\n",
       "    .dataframe thead th {\n",
       "        text-align: right;\n",
       "    }\n",
       "</style>\n",
       "<table border=\"1\" class=\"dataframe\">\n",
       "  <thead>\n",
       "    <tr style=\"text-align: right;\">\n",
       "      <th></th>\n",
       "      <th>full 20</th>\n",
       "      <th>empty 20</th>\n",
       "      <th>full 40</th>\n",
       "      <th>empty 40</th>\n",
       "    </tr>\n",
       "  </thead>\n",
       "  <tbody>\n",
       "    <tr>\n",
       "      <th>1: (SF)</th>\n",
       "      <td>1</td>\n",
       "      <td>0</td>\n",
       "      <td>0</td>\n",
       "      <td>0</td>\n",
       "    </tr>\n",
       "    <tr>\n",
       "      <th>2: (SF)</th>\n",
       "      <td>1</td>\n",
       "      <td>0</td>\n",
       "      <td>0</td>\n",
       "      <td>0</td>\n",
       "    </tr>\n",
       "    <tr>\n",
       "      <th>3: (SE)</th>\n",
       "      <td>0</td>\n",
       "      <td>1</td>\n",
       "      <td>0</td>\n",
       "      <td>0</td>\n",
       "    </tr>\n",
       "    <tr>\n",
       "      <th>4: (SE)</th>\n",
       "      <td>0</td>\n",
       "      <td>1</td>\n",
       "      <td>0</td>\n",
       "      <td>0</td>\n",
       "    </tr>\n",
       "    <tr>\n",
       "      <th>5: (DF)</th>\n",
       "      <td>-1</td>\n",
       "      <td>0</td>\n",
       "      <td>0</td>\n",
       "      <td>0</td>\n",
       "    </tr>\n",
       "    <tr>\n",
       "      <th>6: (DF)</th>\n",
       "      <td>-1</td>\n",
       "      <td>0</td>\n",
       "      <td>0</td>\n",
       "      <td>0</td>\n",
       "    </tr>\n",
       "    <tr>\n",
       "      <th>7: (DE)</th>\n",
       "      <td>0</td>\n",
       "      <td>-1</td>\n",
       "      <td>0</td>\n",
       "      <td>0</td>\n",
       "    </tr>\n",
       "    <tr>\n",
       "      <th>8: (DE)</th>\n",
       "      <td>0</td>\n",
       "      <td>-1</td>\n",
       "      <td>0</td>\n",
       "      <td>0</td>\n",
       "    </tr>\n",
       "  </tbody>\n",
       "</table>\n",
       "</div>"
      ],
      "text/plain": [
       "         full 20  empty 20  full 40  empty 40\n",
       "1: (SF)        1         0        0         0\n",
       "2: (SF)        1         0        0         0\n",
       "3: (SE)        0         1        0         0\n",
       "4: (SE)        0         1        0         0\n",
       "5: (DF)       -1         0        0         0\n",
       "6: (DF)       -1         0        0         0\n",
       "7: (DE)        0        -1        0         0\n",
       "8: (DE)        0        -1        0         0"
      ]
     },
     "execution_count": 62,
     "metadata": {},
     "output_type": "execute_result"
    }
   ],
   "source": [
    "demand_explain"
   ]
  },
  {
   "cell_type": "code",
   "execution_count": null,
   "id": "e4415d42",
   "metadata": {},
   "outputs": [],
   "source": []
  },
  {
   "cell_type": "code",
   "execution_count": null,
   "id": "0bb470ba",
   "metadata": {},
   "outputs": [],
   "source": []
  },
  {
   "cell_type": "code",
   "execution_count": 63,
   "id": "cae604e9",
   "metadata": {},
   "outputs": [
    {
     "data": {
      "text/plain": [
       "{40: {(1, 5): 0, (2, 6): 0}, 20: {(1, 5): 1, (2, 6): 1}}"
      ]
     },
     "execution_count": 63,
     "metadata": {},
     "output_type": "execute_result"
    }
   ],
   "source": [
    "f_ij = {}\n",
    "for h in H:\n",
    "    f_ij[h] = {}\n",
    "    for item in range(len(SF[h])):\n",
    "        if h == 20:\n",
    "            tmp_sf = demand.loc[SF[h][item]][0]\n",
    "            tmp_df = demand.loc[DF[h][item]][0]\n",
    "            assert tmp_sf == -tmp_df or (tmp_sf == 0 and tmp_df == 0)\n",
    "            f_ij[h][(SF[h][item], DF[h][item])] = abs(tmp_df)\n",
    "        elif h == 40:\n",
    "            tmp_sf = demand.loc[SF[h][item]][2]\n",
    "            tmp_df = demand.loc[DF[h][item]][2]\n",
    "            assert tmp_sf == tmp_df\n",
    "            f_ij[h][(SF[h][item], DF[h][item])] = abs(tmp_df)\n",
    "            \n",
    "f_ij"
   ]
  },
  {
   "cell_type": "code",
   "execution_count": 64,
   "id": "783c3d38",
   "metadata": {},
   "outputs": [
    {
     "name": "stdout",
     "output_type": "stream",
     "text": [
      "d_Hi: {40: {7: 0, 8: 0}, 20: {7: 0, 8: 0}}\n",
      "s_Hi: {40: {3: 0, 4: 0}, 20: {3: 1, 4: 1}}\n"
     ]
    }
   ],
   "source": [
    "d_Hi = {}\n",
    "for h in H:\n",
    "    d_Hi[h] = {}\n",
    "    for i in DE[h]:\n",
    "        if h == 20:\n",
    "            # !!!!!!!!!!!!!!!!!!!!!!!!!!!!!!!!!!!!!!!!!!!\n",
    "            # d_Hi[h][i] = abs(demand.loc[i][[1]].values[0])\n",
    "            d_Hi[h][i] = 0\n",
    "        if h == 40:\n",
    "            d_Hi[h][i] = abs(demand.loc[i][[3]].values[0])\n",
    "s_Hi = {}\n",
    "for h in H:\n",
    "    s_Hi[h] = {}\n",
    "    for i in SE[h]:\n",
    "        if h == 20:\n",
    "            s_Hi[h][i] = abs(demand.loc[i][[1]].values[0])\n",
    "        if h == 40:\n",
    "            s_Hi[h][i] = abs(demand.loc[i][[3]].values[0])\n",
    "\n",
    "print('d_Hi:', d_Hi)\n",
    "print('s_Hi:', s_Hi)"
   ]
  },
  {
   "cell_type": "code",
   "execution_count": 65,
   "id": "d4d2e75e",
   "metadata": {},
   "outputs": [
    {
     "data": {
      "text/plain": [
       "{7: 0, 8: 0}"
      ]
     },
     "execution_count": 65,
     "metadata": {},
     "output_type": "execute_result"
    }
   ],
   "source": [
    "d_Hi[20]"
   ]
  },
  {
   "cell_type": "code",
   "execution_count": 66,
   "id": "2f509506",
   "metadata": {},
   "outputs": [],
   "source": [
    "# d_Hi = {}\n",
    "# for h in H:\n",
    "#     for i in DE[h]:\n",
    "#         if h == 20:\n",
    "#             d_Hi[(i, h)] = abs(demand.loc[i][[1]].values[0])\n",
    "#         if h == 40:\n",
    "#             d_Hi[(i, h)] = abs(demand.loc[i][[3]].values[0])\n",
    "# s_Hi = {}\n",
    "# for h in H:\n",
    "#     for i in SE[h]:\n",
    "#         if h == 20:\n",
    "#             s_Hi[(i, h)] = abs(demand.loc[i][[1]].values[0])\n",
    "#         if h == 40:\n",
    "#             s_Hi[(i, h)] = abs(demand.loc[i][[3]].values[0])\n",
    "\n",
    "# print('d_Hi:', d_Hi)\n",
    "# print('s_Hi:', s_Hi)"
   ]
  },
  {
   "cell_type": "markdown",
   "id": "2cd8dca8",
   "metadata": {},
   "source": [
    "There is a one-to-one correspondence between nodes of the sets  $SF^{(H)}$ and  $DF^{(H)}$ such that each *origin node* $i\\in SF^{(H)}$ corresponds to a unique *destination node* $j\\in DF^{(H)}$ and vice versa. Define the sets of *origin-destination arcs* as $F^{(H)}=\\{(i,j)\\in Q\\mid i\\in SF^{(H)}, j\\in DF^{(H)}\\}$, $H\\in\\{20,40\\}$. Each arc $(i,j)\\in F^{(H)}$ is associated with a *requested exact flow* $f^{(H)}_{ij}$ of full $H$-foot containers between $i$ and $j$, $H\\in\\{20,40\\}$. It implies that the node $i\\in SF^{(H)}$ possesses $f^{(H)}_{ij}$ full $H$-foot containers and the node $j\\in DF^{(H)}$ demands these containers if $(i,j)\\in F^{(H)}$, $H\\in\\{20,40\\}$."
   ]
  },
  {
   "cell_type": "code",
   "execution_count": 67,
   "id": "5cc31dd6",
   "metadata": {},
   "outputs": [
    {
     "name": "stdout",
     "output_type": "stream",
     "text": [
      "F: {40: [(1, 5), (2, 6)], 20: [(1, 5), (2, 6)]}\n"
     ]
    }
   ],
   "source": [
    "F = {}\n",
    "for h in H:\n",
    "    assert len(SF[h]) == len(DF[h]), \"SF and DF have different lengths for h={}\".format(h)\n",
    "    F_h = []\n",
    "    for item in range(0, len(SF[h])):\n",
    "        F_h.append((SF[h][item], DF[h][item]))\n",
    "    F[h] = F_h\n",
    "print('F:', F)"
   ]
  },
  {
   "cell_type": "code",
   "execution_count": 68,
   "id": "5a77c875",
   "metadata": {},
   "outputs": [
    {
     "name": "stdout",
     "output_type": "stream",
     "text": [
      "f_ij: {40: {(1, 5): 0, (2, 6): 0}, 20: {(1, 5): 1, (2, 6): 1}}\n"
     ]
    }
   ],
   "source": [
    "f_ij = {}\n",
    "for h in H:\n",
    "    f_ij[h] = {}\n",
    "    for item in range(len(SF[h])):\n",
    "        if h == 20:\n",
    "            tmp_sf = demand.loc[SF[h][item]][0]\n",
    "            tmp_df = demand.loc[DF[h][item]][0]\n",
    "            assert tmp_sf == -tmp_df or (tmp_sf == 0 and tmp_df == 0)\n",
    "            f_ij[h][(SF[h][item], DF[h][item])] = abs(tmp_df)\n",
    "        elif h == 40:\n",
    "            tmp_sf = demand.loc[SF[h][item]][2]\n",
    "            tmp_df = demand.loc[DF[h][item]][2]\n",
    "            assert tmp_sf == tmp_df\n",
    "            f_ij[h][(SF[h][item], DF[h][item])] = abs(tmp_df)\n",
    "\n",
    "print('f_ij:', f_ij)"
   ]
  },
  {
   "cell_type": "code",
   "execution_count": 69,
   "id": "dc3d3214",
   "metadata": {},
   "outputs": [],
   "source": [
    "# f_ij = {}\n",
    "# for h in H:\n",
    "#     f_ij[h] = []\n",
    "#     for item in range(len(SF[h])):\n",
    "#         if h == 20:\n",
    "#             tmp_sf = demand.loc[SF[h][item]][0]\n",
    "#             tmp_df = demand.loc[DF[h][item]][0]\n",
    "#             assert tmp_sf == -tmp_df or (tmp_sf == 0 and tmp_df == 0)\n",
    "#             f_ij[h].append(( {(SF[h][item], DF[h][item]): abs(tmp_df)} ))\n",
    "#         elif h == 40:\n",
    "#             tmp_sf = demand.loc[SF[h][item]][2]\n",
    "#             tmp_df = demand.loc[DF[h][item]][2]\n",
    "#             assert tmp_sf == tmp_df\n",
    "#             f_ij[h].append(({(SF[h][item], DF[h][item]): abs(tmp_df)}))\n",
    "\n",
    "# print('f_ij:', f_ij)"
   ]
  },
  {
   "cell_type": "markdown",
   "id": "5916141e",
   "metadata": {},
   "source": [
    "Each non-{\\color{blue}arrival-}depot node $i\\in R\\cup C{\\color{blue}\\cup\\{d^{out}\\}}$ is equipped with $l_i$ parallel identical {\\it service lines} (refuel lines, unloading-loading lines), denoted as $(i,l)$, $l\\in L_i=\\{1,\\ldots,l_i\\}$, such that no line can service more than one vehicle at a time.  We associate each service line $(i,l)$, $i\\in C\\cup R{\\color{blue}\\cup\\{d^{out}\\}}$, $l\\in L_i$, with a  set $V_i=\\{1,2,\\ldots,v^{\\max}_i\\}$ of possible visits of this line by all vehicles.\n",
    "The visits are numbered in the increasing order of the vehicle arrival times. Thus, $v\\in V_i$ can be viewed as a position in the visiting sequence of a line $(i,l)$ by all vehicles. The same vehicle can visit any line any number of times within the available positions. Not all $v^{\\max}_i$ visits can be realized in a vehicle timetable.  If a visit is realized then we call it as real, otherwise, we call it as artificial.\n",
    "For modelling purposes, it is convenient to introduce a single artificial line and a single visit position <font color=\"blue\">for the arrival depot node:$L_{d^{in}}=V_{d^{in}}=\\{1\\}$. This single visit position can be occupied by all vehicles simultaneously. It is assumed that there is an initial supply of $S^{(HE)}_l$ of empty $H$-foot containers in line $l$ of the departure depot node $d^{out}$, $H\\in\\{20,40\\}$ </font>."
   ]
  },
  {
   "cell_type": "code",
   "execution_count": 70,
   "id": "52084a3f",
   "metadata": {},
   "outputs": [
    {
     "name": "stdout",
     "output_type": "stream",
     "text": [
      "l_i {9: 2, 10: 2, 1: 2, 2: 2, 3: 2, 4: 2, 5: 2, 6: 2, 7: 2, 8: 2, 0: 2}\n",
      "v_i {9: 2, 10: 2, 1: 2, 2: 2, 3: 2, 4: 2, 5: 2, 6: 2, 7: 2, 8: 2, 0: 2}\n"
     ]
    }
   ],
   "source": [
    "RCd_out = np.hstack((R,C, d_out))\n",
    "li, v_max_i = 2, 2 \n",
    "l_i = {}\n",
    "v_i =  {}\n",
    "for i in RCd_out:\n",
    "    l_i[i] = li # l_i, v_max_i = 2, 2 \n",
    "    v_i[i] = v_max_i\n",
    "    \n",
    "print('l_i', l_i)\n",
    "print('v_i', v_i)"
   ]
  },
  {
   "cell_type": "code",
   "execution_count": 71,
   "id": "fd45951c",
   "metadata": {},
   "outputs": [
    {
     "name": "stdout",
     "output_type": "stream",
     "text": [
      "L: {9: {1, 2}, 10: {1, 2}, 1: {1, 2}, 2: {1, 2}, 3: {1, 2}, 4: {1, 2}, 5: {1, 2}, 6: {1, 2}, 7: {1, 2}, 8: {1, 2}, 0: {1, 2}, 11: {1}}\n",
      "V: {9: {1, 2}, 10: {1, 2}, 1: {1, 2}, 2: {1, 2}, 3: {1, 2}, 4: {1, 2}, 5: {1, 2}, 6: {1, 2}, 7: {1, 2}, 8: {1, 2}, 0: {1, 2}, 11: {1}}\n"
     ]
    }
   ],
   "source": [
    "L = {}\n",
    "V = {}\n",
    "for i in RCd_out:\n",
    "    L[i] = set(range(1, l_i[i] + 1))\n",
    "    V[i] = set(range(1, v_i[i] + 1))\n",
    "    \n",
    "L[d_in], V[d_in] = {1}, {1}\n",
    "print('L:', L)\n",
    "print('V:', V)"
   ]
  },
  {
   "cell_type": "markdown",
   "id": "44485e0f",
   "metadata": {},
   "source": [
    "Assume that an $m$-type vehicle $k$ unloads $r$ containers, $r\\in\\{0,1,2\\}$, and loads $h$ containers, $h\\in\\{0,1,2\\}$,  at visit $v$ of <font color=\"blue\"> a non-arrival-depot </font> line $(i,l)$. The respective events happen in the following sequence:  arrival, arrival setup, $r$ unloading operations and $h$ loading operations in any order, departure setup and departure. "
   ]
  },
  {
   "cell_type": "code",
   "execution_count": 72,
   "id": "549cdcaf",
   "metadata": {},
   "outputs": [],
   "source": [
    "r = {0,1,2}\n",
    "h = {0,1,2}"
   ]
  },
  {
   "cell_type": "markdown",
   "id": "f088ff76",
   "metadata": {},
   "source": [
    "##### MILP model\n",
    "\n",
    "It is convenient to introduce the following additional notation.\n",
    "* $Pred_i\\subset N$ -- \tset of immediate predecessor nodes of node $i\\in N$;\n",
    "* $Succ_i\\subset N$ -- set of immediate successor nodes of node $i\\in N$;\t\n",
    "* $E=\\{((v,i,l),(u,j,q))\\mid v\\in V_i,\\ l\\in L_i,\\ u\\in V_j,\\ q\\in L_j,\\ (i,j)\\in Q\\}$.\n"
   ]
  },
  {
   "cell_type": "code",
   "execution_count": 73,
   "id": "7885c802",
   "metadata": {},
   "outputs": [],
   "source": [
    "Pred = {}\n",
    "Succ = {}\n",
    "for item in all_nodes:\n",
    "    if item == d_in:\n",
    "        Pred[item] = np.delete(all_nodes, item)\n",
    "        Succ[item] = []\n",
    "    if item == d_out or item in np.hstack((R,C)):\n",
    "        Pred[item] = np.delete(all_nodes, [item, d_in])\n",
    "        Succ[item] = np.delete(all_nodes, item)\n"
   ]
  },
  {
   "cell_type": "code",
   "execution_count": 74,
   "id": "5fe4ee13",
   "metadata": {},
   "outputs": [],
   "source": [
    "E = []\n",
    "E = [(v,i,l, u,j,q) for (i, j) in Q for v in V[i] for l in L[i] for u in V[j] for q in L[j]]"
   ]
  },
  {
   "cell_type": "code",
   "execution_count": 75,
   "id": "250c2cab",
   "metadata": {},
   "outputs": [],
   "source": [
    "# Create CPLEX model\n",
    "model = Model(name='VRP')"
   ]
  },
  {
   "cell_type": "markdown",
   "id": "08c43db7",
   "metadata": {},
   "source": [
    "$x^0_{kvil}$  -- binary variable equal to 1 if vehicle $k$ occupies position $v$ in the visiting sequence of the line $(i,l)$, $k\\in K$, $v\\in V_i$, $i\\in N$, $l\\in L_i$"
   ]
  },
  {
   "cell_type": "code",
   "execution_count": 76,
   "id": "abdb1268",
   "metadata": {},
   "outputs": [],
   "source": [
    "x0 = {}\n",
    "for i in all_nodes:\n",
    "    for l in L[i]:\n",
    "        for k in K:\n",
    "            for v in V[i]:\n",
    "                x0[k,v,i,l] = model.binary_var(name=f'x0_{k}_{v}_{i}_{l}')"
   ]
  },
  {
   "cell_type": "markdown",
   "id": "b5a6f33c",
   "metadata": {},
   "source": [
    "$x_{kvilujq}$ -- binary variable equal to 1 if vehicle $k$ drives over the arc $((v,i,l),(u,j,q))\\in E$"
   ]
  },
  {
   "cell_type": "code",
   "execution_count": 77,
   "id": "e51c9bd8",
   "metadata": {},
   "outputs": [],
   "source": [
    "x = {}\n",
    "for k in K:\n",
    "    for item in E:\n",
    "        v, i, l, u, j, q = item\n",
    "        x[k, v, i, l, u, j, q] = model.binary_var(name=f'x_{k}_{v}_{i}_{l}_{u}_{j}_{q}')"
   ]
  },
  {
   "cell_type": "markdown",
   "id": "5e0dca45",
   "metadata": {},
   "source": [
    "$Pick^{(\\pi)}_{kvil}$ -- number of $\\pi$-type containers that vehicle $k$ picks at visit $v$ of the line $(i,l)$ , $k\\in K$, $v\\in V_i$, $i\\in N$, $l\\in L_i$, $\\pi\\in\\Pi$"
   ]
  },
  {
   "cell_type": "code",
   "execution_count": 78,
   "id": "4a090870",
   "metadata": {},
   "outputs": [],
   "source": [
    "Pick = {}\n",
    "for pi in Pi:\n",
    "    for k in K:\n",
    "        for i in all_nodes:\n",
    "            for l in L[i]:\n",
    "                for v in V[i]:\n",
    "                    name = f'Pick_{pi}_{k}_{v}_{i}_{l}'\n",
    "                    Pick[pi, k, v, i, l] = model.integer_var(name=name)"
   ]
  },
  {
   "cell_type": "markdown",
   "id": "36c8dbba",
   "metadata": {},
   "source": [
    "$Drop^{(\\pi)}_{kvil}$ -- number of $\\pi$-type containers that vehicle $k$ drops at visit $v$ of the line $(i,l)$, $k\\in K$, $v\\in V_i$, $i\\in N$, $l\\in L_i$, $\\pi\\in\\Pi$"
   ]
  },
  {
   "cell_type": "code",
   "execution_count": 79,
   "id": "4cfc61bb",
   "metadata": {},
   "outputs": [],
   "source": [
    "Drop = {}\n",
    "for pi in Pi:\n",
    "    for k in K:\n",
    "        for i in all_nodes:\n",
    "            for l in L[i]:\n",
    "                for v in V[i]:\n",
    "                    name = f'Drop_{pi}_{k}_{v}_{i}_{l}'\n",
    "                    Drop[pi, k, v, i, l] = model.integer_var(name=name)"
   ]
  },
  {
   "cell_type": "markdown",
   "id": "036cf33f",
   "metadata": {},
   "source": [
    "$Load^{(\\pi)}_{kvil}$ -- number of $\\pi$-type containers that vehicle $k$ carries immediately before visit $v$ of the line $(i,l)$, $k\\in K$, $v\\in V_i$, $i\\in N$, $l\\in L_i$, $\\pi\\in\\Pi$"
   ]
  },
  {
   "cell_type": "code",
   "execution_count": 80,
   "id": "7550b74b",
   "metadata": {},
   "outputs": [],
   "source": [
    "Load = {}\n",
    "for pi in Pi:\n",
    "    for k in K:\n",
    "        for i in all_nodes:\n",
    "            for l in L[i]:\n",
    "                for v in V[i]:\n",
    "                    name = f'Load_{pi}_{k}_{v}_{i}_{l}'\n",
    "                    Load[pi, k, v, i, l] = model.integer_var(name=name)"
   ]
  },
  {
   "cell_type": "markdown",
   "id": "42132bb9",
   "metadata": {},
   "source": [
    "$X_{kvil}$ -- time of arrival of vehicle $k$ to the line $(i,l)$ for visit $v$, $k\\in K$, $v\\in V_i$, $i\\in N$, $l\\in L_i$"
   ]
  },
  {
   "cell_type": "code",
   "execution_count": 81,
   "id": "c18f6fc5",
   "metadata": {},
   "outputs": [],
   "source": [
    "X = {}\n",
    "for k in K:\n",
    "    for i in all_nodes:\n",
    "        for l in L[i]:\n",
    "            for v in V[i]:\n",
    "                name = 'X' + '_' + str(k) + '_' + str(v) + '_' + str(i) + '_' + str(l)\n",
    "                X[k, v, i, l] = model.continuous_var(name=name)"
   ]
  },
  {
   "cell_type": "markdown",
   "id": "1cfe03e6",
   "metadata": {},
   "source": [
    "$Y_{kvil}$ -- time of departure of vehicle $k$ from the line $(i,l)$ after visit $v$, $k\\in K$, $v\\in V_i$, $i\\in N$, $l\\in L_i$"
   ]
  },
  {
   "cell_type": "code",
   "execution_count": 82,
   "id": "8bb541db",
   "metadata": {},
   "outputs": [],
   "source": [
    "Y = {}\n",
    "for k in K:\n",
    "    for i in all_nodes:\n",
    "        for l in L[i]:\n",
    "            for v in V[i]:\n",
    "                name = f'Y_{k}_{v}_{i}_{l}'\n",
    "                Y[k, v, i, l] = model.continuous_var(name=name)"
   ]
  },
  {
   "cell_type": "markdown",
   "id": "9ae024ea",
   "metadata": {},
   "source": [
    "$I_{kvil}$  --  remaining drive time capacity of vehicle $k$ at its arrival to the line $(i,l)$ for visit~$v$, $k\\in K$, $v\\in V_i$, $i\\in N$, $l\\in L_i$"
   ]
  },
  {
   "cell_type": "code",
   "execution_count": 83,
   "id": "8288d2be",
   "metadata": {},
   "outputs": [],
   "source": [
    "I = {}\n",
    "for k in K:\n",
    "    for i in all_nodes:\n",
    "        for l in L[i]:\n",
    "            for v in V[i]:\n",
    "                name = f'I_{k}_{v}_{i}_{l}'\n",
    "                I[k, v, i, l] = model.continuous_var(name=name)"
   ]
  },
  {
   "cell_type": "markdown",
   "id": "1afcb62f",
   "metadata": {},
   "source": [
    "$O_{kvil}$ --  remaining drive time capacity of vehicle $k$ at its departure from the line $(i,l)$ after visit $v$, $k\\in K$, $v\\in V_i$, $i\\in N$, $l\\in L_i$. Note that $I_{kvil}=O_{kvil}$ for $i\\not\\in R$"
   ]
  },
  {
   "cell_type": "code",
   "execution_count": 84,
   "id": "abc4cb2c",
   "metadata": {},
   "outputs": [],
   "source": [
    "O = {}\n",
    "for k in K:\n",
    "    for i in all_nodes:\n",
    "        for l in L[i]:\n",
    "            for v in V[i]:\n",
    "                name = f'O_{k}_{v}_{i}_{l}'\n",
    "                O[k, v, i, l] = model.continuous_var(name=name)"
   ]
  },
  {
   "cell_type": "markdown",
   "id": "f219e8b3",
   "metadata": {},
   "source": [
    "$\\delta_{kvil}$ --  refuel time of vehicle $k$ at visit $v$ of the refuel line $(i,l)$, $k\\in K$, $v\\in V_i$, $i\\in R$, $l\\in L_i$"
   ]
  },
  {
   "cell_type": "code",
   "execution_count": 85,
   "id": "5154682b",
   "metadata": {},
   "outputs": [],
   "source": [
    "delta = {}\n",
    "for k in K:\n",
    "    for i in R:\n",
    "        for l in L[i]:\n",
    "            for v in V[i]:\n",
    "                name = f'delta_{k}_{v}_{i}_{l}'\n",
    "                delta[k, v, i, l] = model.continuous_var(name=name)"
   ]
  },
  {
   "cell_type": "markdown",
   "id": "0f03edbd",
   "metadata": {},
   "source": [
    "<font color=\"blue\">$\\sigma_{vl}^{(H)}$ --  supply of $H$-foot empty containers at line $l$ of the departure depot $d^{out}$ in the end of visit $v$ of this line, $v\\in V_{d^{out}}$, $\\sigma_{0l}^{(H)}=S^{(HE)}_l$, $l\\in L_{d^{out}}$, $H\\in\\{20,40\\}$. </font>"
   ]
  },
  {
   "cell_type": "code",
   "execution_count": 86,
   "id": "06b350ef",
   "metadata": {},
   "outputs": [
    {
     "name": "stdout",
     "output_type": "stream",
     "text": [
      "{40: 0, 20: 0}\n"
     ]
    }
   ],
   "source": [
    "sum_d_Hi = {}\n",
    "for key in d_Hi.keys():\n",
    "    # initialize a counter variable\n",
    "    count = 0\n",
    "    # loop over the values of the inner dictionary\n",
    "    for value in d_Hi[key].values():\n",
    "        # add the value to the counter\n",
    "        count += value\n",
    "    # store the result for the current key\n",
    "    sum_d_Hi[key] = count\n",
    "    \n",
    "print(sum_d_Hi)"
   ]
  },
  {
   "cell_type": "code",
   "execution_count": 87,
   "id": "489a11b5",
   "metadata": {},
   "outputs": [],
   "source": [
    "# Define the decision variables\n",
    "sigma_Hvl = {}\n",
    "for v in [0] + [v for v in V[d_out]]:\n",
    "    for l in L[d_out]:\n",
    "        for h in H:\n",
    "            sigma_Hvl[h,v,l] = model.continuous_var(name=f'sigma_{h}_{v}_{l}')"
   ]
  },
  {
   "cell_type": "code",
   "execution_count": 88,
   "id": "396d1819",
   "metadata": {},
   "outputs": [],
   "source": [
    "# Define the constraints\n",
    "for l in L[d_out]:\n",
    "    for h in H:\n",
    "        model.add_constraint(sigma_Hvl[h, 0, l] == sum_d_Hi[h])  # Constraint 1\n",
    "    for v in V[d_out]:\n",
    "        model.add_constraint(sigma_Hvl[20, v, l] >= 0)     # Constraint 2\n",
    "        model.add_constraint(sigma_Hvl[20, v, l] >= 0)     # Constraint 3"
   ]
  },
  {
   "cell_type": "markdown",
   "id": "f8b73dd0",
   "metadata": {},
   "source": [
    "Our MILP model can be written as follows. Denote a pair of expressions $v\\in  V_i$ and $l\\in L_i$ as $\\forall (v,l)$, a pair of expressions $u\\in  V_j$ and $q\\in L_j$ as $\\forall (u,q)$, and  a pair of expressions $w\\in  V_h$ and $g\\in L_h$ as $\\forall (w,g)$."
   ]
  },
  {
   "cell_type": "markdown",
   "id": "44060543",
   "metadata": {},
   "source": [
    "$$ \\min \\sum_{k\\in K}\\sum_{((v,i,l),(u,j,q))\\in E}c^{(t)}_{m(k)}t_{ij,m(k)}x_{kvilujq}+\n",
    "\\sum_{k\\in K,\\forall (v,l),i\\in Succ_{d^{out}}\\backslash\\{d^{in}\\}}c^{(a)}_{m(k)}x^0_{kvil} $$"
   ]
  },
  {
   "cell_type": "code",
   "execution_count": 89,
   "id": "cc85c689",
   "metadata": {},
   "outputs": [],
   "source": [
    "obj = 0\n",
    "for k in K:\n",
    "    for (v, i, l, u, j, q) in E:\n",
    "        obj += c_tm[m_k[k]].values[0] * t[(i,j,m_k[k])] * x[(k, v, i, l, u, j, q)]\n",
    "    for i in Succ[d_out]:\n",
    "        for l in L[i]:\n",
    "            for v in V[i]:\n",
    "                if i != d_in:\n",
    "                    obj += c_am[m_k[k]].values[0] * x0[(k, v, i, l)]\n",
    "model.minimize(obj)"
   ]
  },
  {
   "cell_type": "markdown",
   "id": "f45f5a98",
   "metadata": {},
   "source": [
    "#### subject to\n",
    "predefined variable values and  <font color=\"blue\"> no relocation for all but empty containers at </font>d^{out}"
   ]
  },
  {
   "cell_type": "markdown",
   "id": "f2244ca8",
   "metadata": {},
   "source": [
    "<font color=\"blue\"> \n",
    "$$ Load^{(\\pi)}_{k1d^{in}1}???=Drop^{(\\pi)}_{k1d^{in}1}=Pick^{(\\pi)}_{k1d^{in}1}=0,k\\! \\in\\!  K,\\ \\pi\\in \\Pi, \\label{EqLout1} (2)$$\n",
    "</font>"
   ]
  },
  {
   "cell_type": "code",
   "execution_count": 90,
   "id": "bf2b0a35",
   "metadata": {},
   "outputs": [],
   "source": [
    "for pi in Pi:\n",
    "    for k in K:\n",
    "        model.add_constraint(Load[(pi, k, 1, d_in, 1)] == Drop[(pi, k, 1, d_in, 1)], ctname=\"EqLout1_Eq2_1\")\n",
    "        model.add_constraint(Drop[(pi, k, 1, d_in, 1)] == Pick[(pi, k, 1, d_in, 1)], ctname=\"EqLout1_Eq2_2\")\n"
   ]
  },
  {
   "cell_type": "markdown",
   "id": "c980d4fb",
   "metadata": {},
   "source": [
    "<span style=\"color:blue\">\n",
    "$$Drop^{(\\pi)}_{k1d^{out}1}=Pick^{(\\pi)}_{k1d^{out}1}=0,\\ k\\in K,\\ \\pi\\in\\{DF^{(20)},DF^{(40)}\\}  \\label{EqLout2} (3)$$\n",
    "</span>"
   ]
  },
  {
   "cell_type": "code",
   "execution_count": 91,
   "id": "8fddc5aa",
   "metadata": {},
   "outputs": [],
   "source": [
    "# DF(20) and DF(40) are the same nodes. This model (to test the Sezgi model) \n",
    "# does not divide the nodes into two types of containers: 20 foot and 40 foot. \n",
    "for pi in ['20F', '40F']:\n",
    "    for k in K:\n",
    "        model.add_constraint(Load[pi, k, 1, d_out, 1] == 0, ctname=\"EqLout2_Eq3_1\")\n",
    "        model.add_constraint(Drop[pi, k, 1, d_out, 1] == 0, ctname=\"EqLout2_Eq3_2\")\n",
    "        model.add_constraint(Pick[pi, k, 1, d_out, 1] == 0, ctname=\"EqLout2_Eq3_3\")"
   ]
  },
  {
   "cell_type": "markdown",
   "id": "332b8e9f",
   "metadata": {},
   "source": [
    "$$ Drop^{(HE)}_{kvil}=0, k\\! \\in\\!  K, \\forall (v,l), i\\!\\not\\!\\in\\! DE^{(H)},\\ H\\in\\{20,40\\},   \\label{EqDrop1}  (4)$$ "
   ]
  },
  {
   "cell_type": "code",
   "execution_count": 92,
   "id": "4a3edf75",
   "metadata": {},
   "outputs": [],
   "source": [
    "for HE in ['20E', '40E']:\n",
    "    for k in K:\n",
    "        for i in np.delete(all_nodes, DE_H):\n",
    "            for l in L[i]:\n",
    "                for v in V[i]:\n",
    "                    model.add_constraint(Drop[HE, k, v, i, l] == 0, ctname=\"EqDrop1_Eq4\")"
   ]
  },
  {
   "cell_type": "markdown",
   "id": "493cc3f1",
   "metadata": {},
   "source": [
    "$$ Drop^{(HF)}_{kvil}=0, k\\! \\in\\!  K, \\forall (v,l), i\\!\\not\\!\\in\\! DF^{(H)},  \\ H\\in\\{20,40\\},   \\label{EqDrop2} (5)$$"
   ]
  },
  {
   "cell_type": "code",
   "execution_count": 93,
   "id": "5696d633",
   "metadata": {},
   "outputs": [],
   "source": [
    "for HE in ['20F', '40F']:\n",
    "    for k in K:\n",
    "        for i in np.delete(all_nodes, DF_H):\n",
    "            for l in L[i]:\n",
    "                for v in V[i]:\n",
    "                    model.add_constraint(Drop[HE, k, v, i, l] == 0, ctname=\"EqDrop2_Eq5\")"
   ]
  },
  {
   "cell_type": "markdown",
   "id": "3aad9f4f",
   "metadata": {},
   "source": [
    "$$\n",
    "Pick^{(HE)}_{kvil}=0, k\\! \\in\\!  K, \\forall (v,l), i\\!\\not\\!\\in\\! SE^{(H)}, \\ H\\in\\{20,40\\},   \\label{EqPick1} (6)\n",
    "$$"
   ]
  },
  {
   "cell_type": "code",
   "execution_count": 94,
   "id": "380497c6",
   "metadata": {},
   "outputs": [],
   "source": [
    "for HE in ['20E', '40E']:\n",
    "    for k in K:\n",
    "        for i in np.delete(all_nodes, SE_H):\n",
    "            for l in L[i]:\n",
    "                for v in V[i]:\n",
    "                    model.add_constraint(Drop[HE, k, v, i, l] == 0, ctname=\"EqPick1_Eq6\")"
   ]
  },
  {
   "cell_type": "markdown",
   "id": "f34fff8b",
   "metadata": {},
   "source": [
    "$$\n",
    "Pick^{(HF)}_{kvil}=0, k\\! \\in\\!  K, \\forall (v,l), i\\!\\not\\!\\in\\! SF^{(H)}, \\ H\\in\\{20,40\\},    \\label{EqPick2} (7)\n",
    "$$"
   ]
  },
  {
   "cell_type": "code",
   "execution_count": 95,
   "id": "7c95c7f7",
   "metadata": {},
   "outputs": [],
   "source": [
    "for HE in ['20F', '40F']:\n",
    "    for k in K:\n",
    "        for i in np.delete(all_nodes, SF_H):\n",
    "            for l in L[i]:\n",
    "                for v in V[i]:\n",
    "                    model.add_constraint(Drop[HE, k, v, i, l] == 0, ctname=\"EqPick2_Eq7\")"
   ]
  },
  {
   "cell_type": "markdown",
   "id": "0d705e04",
   "metadata": {},
   "source": [
    "$$ x^0_{k1d^{out}1}=1, k\\! \\in\\!  K, \\label{Eqx0Dout}  (8) $$"
   ]
  },
  {
   "cell_type": "code",
   "execution_count": 96,
   "id": "60b76e3c",
   "metadata": {},
   "outputs": [],
   "source": [
    "for k in K:\n",
    "    model.add_constraint(x0[k, 1, d_out,1] == 1, ctname=\"Eqx0Dout_Eq8\")"
   ]
  },
  {
   "cell_type": "markdown",
   "id": "dd765826",
   "metadata": {},
   "source": [
    "$$ x^0_{k1d^{in}1}=1, k\\! \\in\\!  K, (9) $$"
   ]
  },
  {
   "cell_type": "code",
   "execution_count": 97,
   "id": "399b95b8",
   "metadata": {},
   "outputs": [],
   "source": [
    "for k in K:\n",
    "    model.add_constraint(x0[k, 1, d_in,1] == 1, ctname=\"Eqx0Din_Eq9\")"
   ]
  },
  {
   "cell_type": "markdown",
   "id": "0ee5fbe8",
   "metadata": {},
   "source": [
    "<span style=\"color:blue\">\n",
    "$$\n",
    "{\\color{blue}O_{k1d^{out}1}=O^0_k, k\\! \\in\\!  K,} \\label{EqDriveout}  (10)\n",
    "$$\n",
    "</span>"
   ]
  },
  {
   "cell_type": "code",
   "execution_count": 98,
   "id": "ed5811d3",
   "metadata": {},
   "outputs": [],
   "source": [
    "for k in K:\n",
    "    model.add_constraint(O[k,1,d_out,1] == O_0k[m_k[k]], ctname=f\"Driveout_Eq10\")"
   ]
  },
  {
   "cell_type": "markdown",
   "id": "00cb3e4e",
   "metadata": {},
   "source": [
    "###### Feasible load of vehicles"
   ]
  },
  {
   "cell_type": "markdown",
   "id": "afdfe2c8",
   "metadata": {},
   "source": [
    "$$\n",
    "Load^{(\\pi)}_{kujq}=(Load^{(\\pi)}_{kvil}\\! -\\! Drop^{(\\pi)}_{kvil}\\! +\\! Pick^{(\\pi)}_{kvil})x_{kvilujq},\\mbox{ --- quadratic ---}  k\\! \\in\\!  K, \\forall (v,l), i\\! \\in\\!  C{\\color{blue}\\cup\\{d^{out}\\}}, \\forall (u,q), j\\! \\in\\!  C{\\color{blue}\\cup\\{d^{out}\\}}, \\pi\\! \\in\\!  \\Pi, \n",
    " \\nonumber \\label{EqFeaLge20} (11)\n",
    "$$ "
   ]
  },
  {
   "cell_type": "markdown",
   "id": "7088c9d0",
   "metadata": {},
   "source": [
    "###### Linearization"
   ]
  },
  {
   "cell_type": "markdown",
   "id": "1390053d",
   "metadata": {},
   "source": [
    "$$\n",
    "Load^{(\\pi)}_{kujq}\\le 2x_{kvilujq}, \\label{Elineariz}  (45)\n",
    "$$"
   ]
  },
  {
   "cell_type": "code",
   "execution_count": 99,
   "id": "150475c5",
   "metadata": {},
   "outputs": [],
   "source": [
    "for k in K:\n",
    "    for pi in Pi:\n",
    "        for i, j in Q:\n",
    "            if i in np.hstack((C, d_out)) and j in np.hstack((C, d_out)):\n",
    "                for (v, l) in product(V[i], L[i]):\n",
    "                    for (u, q) in product(V[j], L[j]): \n",
    "                        model.add_constraint(Load[pi,k,u,j,q] <= 2 * x[k,v,i,l,u,j,q], \n",
    "                                        ctname=\"Elineariz_Eq45\")"
   ]
  },
  {
   "cell_type": "markdown",
   "id": "5dc4f678",
   "metadata": {},
   "source": [
    "$$\n",
    " Load^{(\\pi)}_{kvil}\\! -\\! Drop^{(\\pi)}_{kvil}\\! +\\! Pick^{(\\pi)}_{kvil}\\le Load^{(\\pi)}_{kujq} +2(1-x_{kvilujq}),\\label{Elineariz2} (46)\n",
    "$$"
   ]
  },
  {
   "cell_type": "code",
   "execution_count": 100,
   "id": "3406c5dd",
   "metadata": {},
   "outputs": [],
   "source": [
    "for k in K:\n",
    "    for pi in Pi:\n",
    "        for i, j in Q:\n",
    "            if i in np.hstack((C, d_out)) and j in np.hstack((C, d_out)):\n",
    "                for (v, l) in product(V[i], L[i]):\n",
    "                    for (u, q) in product(V[j], L[j]):\n",
    "                        left = Load[pi,k,v,i,l] - Drop[pi,k,v,i,l] + Pick[pi,k,v,i,l] \n",
    "                        right = Load[pi,k,u,j,q] + 2 * (1 - x[k,v,i,l,u,j,q])\n",
    "                        model.add_constraint(left <= right, \n",
    "                                        ctname=\"Elineariz2_Eq46\")"
   ]
  },
  {
   "cell_type": "markdown",
   "id": "366d8ace",
   "metadata": {},
   "source": [
    "$$\n",
    "Load^{(\\pi)}_{kujq}\\le Load^{(\\pi)}_{kvil}\\! -\\! Drop^{(\\pi)}_{kvil}\\! +\\! Pick^{(\\pi)}_{kvil}.    \\label{Elineariz3} (47)\n",
    "$$"
   ]
  },
  {
   "cell_type": "code",
   "execution_count": 101,
   "id": "308a8f31",
   "metadata": {},
   "outputs": [],
   "source": [
    "for k in K:\n",
    "    for pi in Pi:\n",
    "        for i, j in Q:\n",
    "            if i in np.hstack((C, d_out)) and j in np.hstack((C, d_out)):\n",
    "                for (v, l) in product(V[i], L[i]):\n",
    "                    for (u, q) in product(V[j], L[j]):\n",
    "                        left = Load[pi,k,u,j,q]\n",
    "                        right = Load[pi,k,v,i,l] - Drop[pi,k,v,i,l] + Pick[pi,k,v,i,l]\n",
    "                        model.add_constraint(left <= right, \n",
    "                                        ctname=\"Elineariz3_Eq47\")"
   ]
  },
  {
   "cell_type": "markdown",
   "id": "7476be6e",
   "metadata": {},
   "source": [
    "$$\n",
    "Drop^{(\\pi)}_{kvil}\\le Load^{(\\pi)}_{kvil},k\\! \\in\\!  K, \\forall (v,l), i\\! \\in\\!  C{\\color{blue}\\cup\\{d^{out}\\}}, \\pi\\! \\in\\!  \\Pi,\\label{EqFeaVisit1} (12)\n",
    "$$"
   ]
  },
  {
   "cell_type": "code",
   "execution_count": 102,
   "id": "f01769a6",
   "metadata": {},
   "outputs": [],
   "source": [
    "for k in K:\n",
    "    for i in np.hstack((C, d_out)):\n",
    "        for (v, l) in product(V[i], L[i]):\n",
    "            for pi in Pi:\n",
    "                model.add_constraint(Drop[pi,k,v,i,l] <= Load[pi,k,v,i,l],\n",
    "                             ctname=\"EqFeaVisit1_Eq12\")"
   ]
  },
  {
   "cell_type": "markdown",
   "id": "a86a28b3",
   "metadata": {},
   "source": [
    "$$\n",
    "Load^{(HE)}_{kvil}\\! +\\! Pick^{(HE)}_{kvil}\\! +\\! Load^{(HF)}_{kvil}\\! +\\! Pick^{(HF)}_{kvil}\\! \\le\\!  Cap^{(H)}_{m(k)}x^0_{kvil}, \\label{EqFeaLge2H}\\\\\n",
    "k\\! \\in\\!  K, \\forall (v,l), i\\! \\in\\!  C{\\color{blue}\\cup\\{d^{out}\\}}, H\\in\\{20,40\\},(13)\n",
    "$$"
   ]
  },
  {
   "cell_type": "code",
   "execution_count": 103,
   "id": "357655ef",
   "metadata": {},
   "outputs": [],
   "source": [
    "for k in K:\n",
    "    for i in np.hstack((C, d_out)):\n",
    "        for (v, l) in product(V[i], L[i]):\n",
    "            for h in [20, 40]:\n",
    "                HE = str(h) + 'E'\n",
    "                HF = str(h) + 'F'\n",
    "                left = Load[HE,k,v,i,l] + Pick[HE, k,v,i,l] + Load[HF,k,v,i,l] + Pick[HF, k,v,i,l]\n",
    "                right = Cap.get((m_k[k], h), 0) * x0[k,v,i,l]\n",
    "                model.add_constraint(left <= right, ctname=\"EqFeaLge2H_Eq13\")"
   ]
  },
  {
   "cell_type": "markdown",
   "id": "ac749f5d",
   "metadata": {},
   "source": [
    "###### feasible drive time capacity of vehicles"
   ]
  },
  {
   "cell_type": "markdown",
   "id": "4f088c3a",
   "metadata": {},
   "source": [
    "$$ \\nonumber  \\\\\n",
    "I_{kujq}=O_{kvil}-t_{ijm(k)}x_{kvilujq},k\\! \\in\\!  K, \\forall ((v,i,l), (j,u,q))\\!\\in\\! E, \\label{EqDrive0}(14) $$"
   ]
  },
  {
   "cell_type": "code",
   "execution_count": 104,
   "id": "bcab0eb7",
   "metadata": {},
   "outputs": [],
   "source": [
    "for k in K:\n",
    "    for (v, i, l, u, j, q) in E:\n",
    "        model.add_constraint(I[k, u, j, q] == \n",
    "                        O[k, v, i, l] - t[i, j, m_k[k]]*x[k, v, i, l, u, j, q], ctname=\"EqDrive0_Eq14\")\n"
   ]
  },
  {
   "cell_type": "markdown",
   "id": "890e9cca",
   "metadata": {},
   "source": [
    "$$\n",
    "I_{kvil}=O_{kvil}, k\\in K,\\forall (v,l), i\\in C{\\color{blue}\\cup\\{d^{out}\\}},  \\label{EqDriveEqual} (15)\n",
    "$$"
   ]
  },
  {
   "cell_type": "code",
   "execution_count": 105,
   "id": "06d50a34",
   "metadata": {},
   "outputs": [],
   "source": [
    "for k in K:\n",
    "    for i in np.hstack((C, d_out)):\n",
    "        for (v, l) in product(V[i], L[i]):\n",
    "            model.add_constraint(I[k,v,i,l] == O[k, v, i, l], ctname=\"EqDriveEqual_Eq15\")"
   ]
  },
  {
   "cell_type": "markdown",
   "id": "68f76705",
   "metadata": {},
   "source": [
    "$$ I_{kvil}+e_{m(k),i}\\delta_{kvil}\\le f_{m(k)}x^0_{kvil}, k\\! \\in\\!  K, \\forall (v,l),  i\\! \\in\\!  R,  (16)  $$"
   ]
  },
  {
   "cell_type": "code",
   "execution_count": 106,
   "id": "ec227e2e",
   "metadata": {},
   "outputs": [],
   "source": [
    "for k in K:\n",
    "    for i in R:\n",
    "        for (v, l) in product(V[i], L[i]):\n",
    "            model.add_constraint(I[k, v, i, l] + e_mi.loc[m_k[k],i] * delta[k, v, i, l] <= f_m[m_k[k]].values[0] * x0[k, v, i, l], \n",
    "                            ctname=f\"EqDrivex0_Eq16\")"
   ]
  },
  {
   "cell_type": "markdown",
   "id": "b0766ef4",
   "metadata": {},
   "source": [
    "$$ \\delta^{\\min} x^0_{kvil}\\le\\delta_{kvil}, k\\! \\in\\!  K, \\forall (v,l),  i\\! \\in\\!  R,  \\label{EqDrivedelt2} (17)$$"
   ]
  },
  {
   "cell_type": "code",
   "execution_count": 107,
   "id": "438b6376",
   "metadata": {},
   "outputs": [],
   "source": [
    "for k in K:\n",
    "    for i in R:\n",
    "        for (v, l) in product(V[i], L[i]):\n",
    "            model.add_constraint(delta_min * x0[k,v,i,l] <= delta[k, v, i, l], ctname=f\"EqDrivedelt2_Eq17\")"
   ]
  },
  {
   "cell_type": "markdown",
   "id": "f0f22318",
   "metadata": {},
   "source": [
    "$$ O_{kvil}=I_{kvil}+e_{m(k),i}\\delta_{kvil},\\ k\\in K,\\forall (v,l), i\\in R,\\label{EqDrive2} (18)$$"
   ]
  },
  {
   "cell_type": "code",
   "execution_count": 108,
   "id": "0b7e942e",
   "metadata": {},
   "outputs": [],
   "source": [
    "for k in K:\n",
    "    for i in R:\n",
    "        for (v, l) in product(V[i], L[i]):\n",
    "            model.add_constraint(O[k, v, i, l] == I[k, v, i, l] + e_mi.loc[m_k[k],i] * delta[k, v, i, l], \n",
    "                            ctname=f\"EqDrive2_Eq18\")"
   ]
  },
  {
   "cell_type": "markdown",
   "id": "298d1695",
   "metadata": {},
   "source": [
    "###### linking departure and arrival times"
   ]
  },
  {
   "cell_type": "markdown",
   "id": "56ffd36b",
   "metadata": {},
   "source": [
    "$$ X_{kujq}\\ge Y_{kvil}+t_{ijm(k)}x_{kvilujq},k\\! \\in\\!  K, \\forall ((v,i,l), (j,u,q))\\!\\in\\! E,  \\label{EqLinkXY} (19)$$"
   ]
  },
  {
   "cell_type": "code",
   "execution_count": 109,
   "id": "ef6c8a4f",
   "metadata": {},
   "outputs": [],
   "source": [
    "for k in K:\n",
    "    for (v, i, l, u, j, q) in E:\n",
    "        model.add_constraint(X[k, u, j, q] >= Y[k, v, i, l] + t[(i,j,m_k[k])] * x[k,v,i,l,u,j,q], \n",
    "                           ctname=f\"EqLinkXY_Eq19\")"
   ]
  },
  {
   "cell_type": "markdown",
   "id": "2c9c0751",
   "metadata": {},
   "source": [
    "###### node time window feasibility"
   ]
  },
  {
   "cell_type": "markdown",
   "id": "e6148a65",
   "metadata": {},
   "source": [
    "$$ a_i+2p+\\delta_{kvil}\\le b_i+T(1-x^0_{kvil}), k\\! \\in\\!  K, \\forall (v,l), i\\! \\in\\! R,  \\label{EqYXR1}  (20)$$"
   ]
  },
  {
   "cell_type": "code",
   "execution_count": 110,
   "id": "cd7dbd50",
   "metadata": {},
   "outputs": [],
   "source": [
    "for k in K:\n",
    "    for i in R:\n",
    "        for (v, l) in product(V[i], L[i]):\n",
    "            left = a[i].values[0] + 2 * setup_time + delta[k,v,i,l]\n",
    "            right = b[i].values[0] + Tmax * (1 - x0[k,v,i,l])\n",
    "            model.add_constraint(left <= right, ctname=f\"EqYXR1_Eq20\")"
   ]
  },
  {
   "cell_type": "markdown",
   "id": "41e35f90",
   "metadata": {},
   "source": [
    "$$ a_i+2p+\\delta_{kvil}\\le Y_{kvil}+T(1-x^0_{kvil}), k\\! \\in\\!  K, \\forall (v,l), i\\! \\in\\! R, \\label{EqYXR2}  (21)$$"
   ]
  },
  {
   "cell_type": "code",
   "execution_count": 111,
   "id": "9ca657cf",
   "metadata": {},
   "outputs": [],
   "source": [
    "for k in K:\n",
    "    for i in R:\n",
    "        for (v, l) in product(V[i], L[i]):\n",
    "            left = a[i].values[0] + 2 * setup_time + delta[k,v,i,l]\n",
    "            right = Y[k,v,i,l] + Tmax * (1 - x0[k,v,i,l])\n",
    "            model.add_constraint(left <= right, ctname=f\"EqYXR2_Eq21\")"
   ]
  },
  {
   "cell_type": "markdown",
   "id": "d7b63165",
   "metadata": {},
   "source": [
    "$$ X_{kvil}+2p+\\delta_{kvil}\\le b_i+T(1-x^0_{kvil}), k\\! \\in\\!  K, \\forall (v,l), i\\! \\in\\! R,  \\label{EqYXR3} (22)$$"
   ]
  },
  {
   "cell_type": "code",
   "execution_count": 112,
   "id": "0ab0af28",
   "metadata": {},
   "outputs": [],
   "source": [
    "for k in K:\n",
    "    for i in R:\n",
    "        for (v, l) in product(V[i], L[i]):\n",
    "            left = X[k,v,i,l] + 2 * setup_time + delta[k,v,i,l]\n",
    "            right = b[i].values[0] + Tmax * (1 - x0[k,v,i,l])\n",
    "            model.add_constraint(left <= right, ctname=f\"EqYXR3_Eq22\")"
   ]
  },
  {
   "cell_type": "markdown",
   "id": "7ba99b88",
   "metadata": {},
   "source": [
    "$$ X_{kvil}+2p+\\delta_{kvil}\\le Y_{kvil}+T(1-x^0_{kvil}), k\\! \\in\\!  K, \\forall (v,l), i\\! \\in\\! R, \\label{EqYXR4} (23)$$"
   ]
  },
  {
   "cell_type": "code",
   "execution_count": 113,
   "id": "8bc10506",
   "metadata": {},
   "outputs": [],
   "source": [
    "for k in K:\n",
    "    for i in R:\n",
    "        for (v, l) in product(V[i], L[i]):\n",
    "            left = X[k,v,i,l] + 2 * setup_time + delta[k,v,i,l]\n",
    "            right = Y[k,v,i,l] + Tmax * (1 - x0[k,v,i,l])\n",
    "            model.add_constraint(left <= right, ctname=f\"EqYXR4_Eq23\")"
   ]
  },
  {
   "cell_type": "markdown",
   "id": "93d5569c",
   "metadata": {},
   "source": [
    "$$\n",
    "a_i\\!+\\! 2p\\!+o\\!\\Big(\\sum_{\\pi\\!\\in\\!\\Pi}\\sum_{k\\!\\in\\! K} Drop^{(\\pi)}_{kvil}\\!+\\!\\sum_{\\pi\\!\\in\\!\\Pi}\\sum_{k\\!\\in\\! K} Pick^{(\\pi)}_{kvil}\\Big)\\!\\le\\! b_i\\!+\\!T(1\\!-\\! x^0_{kvil}),  \\label{EqYXR1c} \\\\\n",
    "k\\! \\in\\!  K, \\forall (v,l), i\\! \\in\\! C{\\color{blue}\\cup\\{d^{out}\\}}, (24)\n",
    "$$"
   ]
  },
  {
   "cell_type": "code",
   "execution_count": 114,
   "id": "9a67f96d",
   "metadata": {},
   "outputs": [],
   "source": [
    "for i in np.hstack((C, d_out)):\n",
    "    for (v, l) in product(V[i], L[i]):\n",
    "        lhs = a[i].values[0] + 2*setup_time + sum(Drop[(pi, k, v, i, l)] + Pick[(pi, k, v, i, l)] for pi in Pi for k in K)\n",
    "        rhs = b[i].values[0] + Tmax*(1 - x0[k, v, i, l])\n",
    "        model.add_constraint(lhs <= rhs, ctname=\"EqYXR1c_Eq24\")"
   ]
  },
  {
   "cell_type": "markdown",
   "id": "6f1f4ec1",
   "metadata": {},
   "source": [
    "$$ \n",
    "a_i\\!+ 2p\\! +\\! o\\Big(\\sum_{\\pi\\!\\in\\!\\Pi}\\sum_{k\\!\\in\\! K} Drop^{(\\pi)}_{kvil}\\! +\\!\\sum_{\\pi\\!\\in\\!\\Pi}\\sum_{k\\!\\in\\! K} Pick^{(\\pi)}_{kvil}\\Big)\\!\\le\\! Y_{kvil}\\!+\\!T(1\\!-\\! x^0_{kvil}),\\label{EqYXR2c}  \\\\\n",
    "k\\! \\in\\!  K, \\forall (v,l), i\\! \\in\\! C{\\color{blue}\\cup\\{d^{out}\\}},\n",
    "(25)\n",
    "$$"
   ]
  },
  {
   "cell_type": "code",
   "execution_count": 115,
   "id": "9aec1d6c",
   "metadata": {},
   "outputs": [],
   "source": [
    "for i in np.hstack((C, d_out)):\n",
    "    for (v, l) in product(V[i], L[i]):\n",
    "        lhs = a[i].values[0] + 2*setup_time + sum(Drop[(pi, k, v, i, l)] + Pick[(pi, k, v, i, l)] for pi in Pi for k in K)\n",
    "        rhs = Y[k,v,i,l] + Tmax*(1 - x0[k, v, i, l])\n",
    "        model.add_constraint(lhs <= rhs, ctname=\"EqYXR2c_Eq25\")"
   ]
  },
  {
   "cell_type": "markdown",
   "id": "7e964ed5",
   "metadata": {},
   "source": [
    "$$ X_{kvil}\\!+ 2p\\! +\\! o\\Big(\\sum_{\\pi\\!\\in\\!\\Pi}\\sum_{k\\!\\in\\! K} Drop^{(\\pi)}_{kvil}\\! +\\! \\sum_{\\pi\\!\\in\\!\\Pi}\\sum_{k\\!\\in\\! K} Pick^{(\\pi)}_{kvil}\\Big)\\!\\le\\! b_i\\!+\\! T(1\\!-\\! x^0_{kvil}),  \\label{EqYXR3c}\\\\\n",
    "k\\! \\in\\!  K, \\forall (v,l), i\\! \\in\\! C{\\color{blue}\\cup\\{d^{out}\\}}, (26)$$"
   ]
  },
  {
   "cell_type": "code",
   "execution_count": 116,
   "id": "224869c5",
   "metadata": {},
   "outputs": [],
   "source": [
    "for i in np.hstack((C, d_out)):\n",
    "    for (v, l) in product(V[i], L[i]):\n",
    "        lhs = X[k,v,i,l] + 2*setup_time + sum(Drop[(pi, k, v, i, l)] + Pick[(pi, k, v, i, l)] for pi in Pi for k in K)\n",
    "        rhs = b[i].values[0] + Tmax*(1 - x0[k, v, i, l])\n",
    "        model.add_constraint(lhs <= rhs, ctname=\"EqYXR3c_Eq26\")"
   ]
  },
  {
   "cell_type": "markdown",
   "id": "ad1c92df",
   "metadata": {},
   "source": [
    "$$ X_{kvil}\\!+\\! 2p\\!  +\\! o\\Big(\\sum_{\\pi\\!\\in\\!\\Pi}\\sum_{k\\!\\in\\! K} Drop^{(\\pi)}_{kvil}\\! +\\! \\sum_{\\pi\\!\\in\\!\\Pi}\\sum_{k\\!\\in\\! K} Pick^{(\\pi)}_{kvil}\\Big)\\!\\le\\! Y_{kvil}\\!+\\! T(1\\! -\\! x^0_{kvil}), \\label{EqYXR4c} \\\\\n",
    "k\\! \\in\\!  K, \\forall (v,l), i\\! \\in\\! C{\\color{blue}\\cup\\{d^{out}\\}} (27)$$"
   ]
  },
  {
   "cell_type": "code",
   "execution_count": 117,
   "id": "79c71549",
   "metadata": {},
   "outputs": [],
   "source": [
    "for i in np.hstack((C, d_out)):\n",
    "    for (v, l) in product(V[i], L[i]):\n",
    "        lhs = X[k,v,i,l] + 2*setup_time + sum(Drop[(pi, k, v, i, l)] + Pick[(pi, k, v, i, l)] for pi in Pi for k in K)\n",
    "        rhs = Y[k,v,i,l] + Tmax*(1 - x0[k, v, i, l])\n",
    "        model.add_constraint(lhs <= rhs, ctname=\"EqYXR4c_Eq27\")"
   ]
  },
  {
   "cell_type": "markdown",
   "id": "eff1f437",
   "metadata": {},
   "source": [
    "###### vehicle time window feasibility"
   ]
  },
  {
   "cell_type": "markdown",
   "id": "06cd8a77",
   "metadata": {},
   "source": [
    "$$ A_k\\le Y_{k1d^{out}1}, k\\! \\in\\!  K,  \\label{EqVehTWout} (28)$$"
   ]
  },
  {
   "cell_type": "code",
   "execution_count": 118,
   "id": "7f0ed48c",
   "metadata": {},
   "outputs": [],
   "source": [
    "dictA = A.to_dict(orient='records')[0]\n",
    "for k in K:\n",
    "    model.add_constraint(dictA[k] <= Y[k,1,d_out,1], ctname=\"EqVehTWout_Eq28\")"
   ]
  },
  {
   "cell_type": "markdown",
   "id": "791474ba",
   "metadata": {},
   "source": [
    "$$ X_{k1d^{out}1}\\le B_k, k\\! \\in\\!  K \\label{EqVehTWin}  (29)$$"
   ]
  },
  {
   "cell_type": "code",
   "execution_count": 119,
   "id": "18159947",
   "metadata": {},
   "outputs": [],
   "source": [
    "for k in K:\n",
    "    model.add_constraint(Y[k,1,d_out,1]<= B[k].values[0], ctname=\"EqVehTWin_Eq29\")"
   ]
  },
  {
   "cell_type": "markdown",
   "id": "8cee9f8f",
   "metadata": {},
   "source": [
    "###### non-intersecting visits of any <span style=\"color:blue\"> non-arrival-</span> depot line"
   ]
  },
  {
   "cell_type": "markdown",
   "id": "04df6b82",
   "metadata": {},
   "source": [
    "$$ \\sum_{k\\in K} Y_{kvil}\\le \\sum_{k\\in K} X_{k,v+1,il},\\ v=1,\\ldots,v_i-1,\\ l\\in L_i,\\ i\\in C\\cup R{\\color{blue} \\cup\\{d^{out}\\}}, \\label{EqYXR42} (30)$$"
   ]
  },
  {
   "cell_type": "code",
   "execution_count": 120,
   "id": "abdb6499",
   "metadata": {},
   "outputs": [],
   "source": [
    "for i in np.hstack((C, R, d_out)):\n",
    "    for l in L[i]:\n",
    "        for v in range(1, v_i[i]):\n",
    "            lhs = sum(Y[k,v,i,l] for k in K)\n",
    "            rhs = sum(X[k,v+1,i,l] for k in K)\n",
    "            model.add_constraint(lhs <= rhs, ctname=\"EqYXR42_Eq30\")"
   ]
  },
  {
   "cell_type": "markdown",
   "id": "af3891dc",
   "metadata": {},
   "source": [
    "###### satisfying full container flow"
   ]
  },
  {
   "cell_type": "markdown",
   "id": "bd0f35eb",
   "metadata": {},
   "source": [
    "$$ \\sum_{\\forall (v,l)}\\sum_{k\\in K}Pick^{(HF)}_{kvil}=\\sum_{\\forall (u,q)}\\sum_{k\\in K}Drop^{(HF)}_{kujq}=f^{(H)}_{ij},\\ (i,j)\\in F^{(H)}, H\\in\\{20,40\\},\\label{EqFlowH} (31)$$"
   ]
  },
  {
   "cell_type": "code",
   "execution_count": 121,
   "id": "05aa1e91",
   "metadata": {},
   "outputs": [],
   "source": [
    "for h in H:\n",
    "    for i,j in F[h]:\n",
    "        HF = str(h) + 'F'\n",
    "        constr1 = sum(Pick[HF,k,v,i,l] for k in K for v in V[i] for l in L[i])\n",
    "        constr2 = sum(Drop[HF,k,u,j,q] for k in K for u in V[j] for q in L[j])\n",
    "        model.add_constraint(constr1 == constr2)\n",
    "        model.add_constraint(constr1 == f_ij[20].get((i, j)), ctname=\"EqFlow20_Eq31\")"
   ]
  },
  {
   "cell_type": "markdown",
   "id": "f10ce588",
   "metadata": {},
   "source": [
    "###### satisfying empty container demand"
   ]
  },
  {
   "cell_type": "markdown",
   "id": "5f2693ca",
   "metadata": {},
   "source": [
    "$$ \\sum_{\\forall (v,l)}\\sum_{k\\in K}Drop^{(HE)}_{kvil}=d^{(H)}_i,\\ i\\in DE^{(H)},\\ H\\in\\{20,40\\}, \\label{EqDH}   (32)$$"
   ]
  },
  {
   "cell_type": "code",
   "execution_count": 122,
   "id": "18b6e298",
   "metadata": {},
   "outputs": [],
   "source": [
    "for h in H:\n",
    "    for i in DE[h]:\n",
    "        HE = str(h) + 'E'\n",
    "        constr1 = sum(Drop[HE,k,v,i,l] for k in K for v in V[i] for l in L[i])\n",
    "        constr2 = d_Hi[h].get(i)\n",
    "        model.add_constraint(constr1 == constr2, ctname=\"EqDH_Eq32\")"
   ]
  },
  {
   "cell_type": "markdown",
   "id": "bc7ee8b3",
   "metadata": {},
   "source": [
    "###### satisfying empty container supply"
   ]
  },
  {
   "cell_type": "markdown",
   "id": "65216066",
   "metadata": {},
   "source": [
    "$$ \\sum_{\\forall (v,l)}\\sum_{k\\in K}Pick^{(HE)}_{kvil}\\le s^{(H)}_i,\\ i\\in SE^{(H)},\\ H\\in\\{20,40\\}, \\label{EqSH} (33)$$"
   ]
  },
  {
   "cell_type": "code",
   "execution_count": 123,
   "id": "b94b7b10",
   "metadata": {},
   "outputs": [],
   "source": [
    "for h in H:\n",
    "    for i in SE[h]:\n",
    "        HE =  str(h) + 'E'\n",
    "        constr1 = sum(Pick[HE,k,v,i,l] for k in K for v in V[i] for l in L[i])\n",
    "        constr2 = s_Hi[h].get(i)\n",
    "        model.add_constraint(constr1 == constr2, ctname=\"EqSH_Eq33\")"
   ]
  },
  {
   "cell_type": "markdown",
   "id": "aff38ece",
   "metadata": {},
   "source": [
    "\n",
    "######  <span style=\"color:blue\"> empty container supply in the end of visit v of line l  of departure depot </span>"
   ]
  },
  {
   "cell_type": "markdown",
   "id": "f672ac88",
   "metadata": {},
   "source": [
    "<span style=\"color:blue\">\n",
    "$$\n",
    "{\\color{blue}\\sigma_{vd^{out}l}^{(H)}\\! =\\! \\sigma_{v-1,d^{out}l}^{(H)}\\! +\\! \\sum_{k\\in K}Drop^{(HE)}_{kvd^{out}l}\\! -\\! \\sum_{k\\in K}Pick^{(HE)}_{kvd^{out}l},v\\!\\in\\! V_{d^{out}},l\\in L_{d^{out}},H\\in\\{20,40\\},} \\label{EqDefd_outH} \n",
    "(34) $$\n",
    "</span>"
   ]
  },
  {
   "cell_type": "code",
   "execution_count": 124,
   "id": "34a7ff6a",
   "metadata": {},
   "outputs": [
    {
     "data": {
      "text/plain": [
       "{(40, 0, 1): docplex.mp.Var(type=C,name='sigma_40_0_1'),\n",
       " (20, 0, 1): docplex.mp.Var(type=C,name='sigma_20_0_1'),\n",
       " (40, 0, 2): docplex.mp.Var(type=C,name='sigma_40_0_2'),\n",
       " (20, 0, 2): docplex.mp.Var(type=C,name='sigma_20_0_2'),\n",
       " (40, 1, 1): docplex.mp.Var(type=C,name='sigma_40_1_1'),\n",
       " (20, 1, 1): docplex.mp.Var(type=C,name='sigma_20_1_1'),\n",
       " (40, 1, 2): docplex.mp.Var(type=C,name='sigma_40_1_2'),\n",
       " (20, 1, 2): docplex.mp.Var(type=C,name='sigma_20_1_2'),\n",
       " (40, 2, 1): docplex.mp.Var(type=C,name='sigma_40_2_1'),\n",
       " (20, 2, 1): docplex.mp.Var(type=C,name='sigma_20_2_1'),\n",
       " (40, 2, 2): docplex.mp.Var(type=C,name='sigma_40_2_2'),\n",
       " (20, 2, 2): docplex.mp.Var(type=C,name='sigma_20_2_2')}"
      ]
     },
     "execution_count": 124,
     "metadata": {},
     "output_type": "execute_result"
    }
   ],
   "source": [
    "sigma_Hvl"
   ]
  },
  {
   "cell_type": "code",
   "execution_count": 125,
   "id": "1bd07dc1",
   "metadata": {},
   "outputs": [],
   "source": [
    "for v in V[d_out]:\n",
    "    for l in L[d_out]:\n",
    "         for h in H:\n",
    "                HE = str(h) + 'E'\n",
    "                constr1 = sigma_Hvl[h,v,l]\n",
    "                constr2 = sigma_Hvl[h,v-1,l] + sum(Drop[HE,k,v,d_out,l] for k in K) - sum(Pick[HE,k,v,d_out,l] for k in K)\n",
    "                model.add_constraint(constr1 == constr2, ctname=\"EqDefd_outH_Eq34\")"
   ]
  },
  {
   "cell_type": "markdown",
   "id": "35931ba3",
   "metadata": {},
   "source": [
    "######  <span style=\"color:blue\"> satisfying empty container supply and relocation at departure depot </span>"
   ]
  },
  {
   "cell_type": "markdown",
   "id": "298a6f70",
   "metadata": {},
   "source": [
    "<span style=\"color:blue\">\n",
    "$$\n",
    "{\\color{blue}\\sum_{k\\in K}Pick^{(HE)}_{kvd^{out}l}\\le \\sigma^{(H)}_{vl},\\ v\\in V_{{d^{out}}},l\\in L_{d^{out}},\\ H\\in\\{20,40\\},} \\label{EqSd_outH} (35)\n",
    "$$\n",
    " </span>"
   ]
  },
  {
   "cell_type": "code",
   "execution_count": 126,
   "id": "b15f039f",
   "metadata": {},
   "outputs": [],
   "source": [
    "for v in V[d_out]:\n",
    "    for l in L[d_out]:\n",
    "         for h in H:\n",
    "                HE = str(h) + 'E'\n",
    "                constr1 = sum(Pick[HE, k,v,d_out,l] for k in K) \n",
    "                constr2 = sigma_Hvl[h,v,l]\n",
    "                model.add_constraint(constr1 <= constr2, ctname=\"EqSd_outH_Eq35\")"
   ]
  },
  {
   "cell_type": "markdown",
   "id": "11e0e901",
   "metadata": {},
   "source": [
    "###### all vehicles leave departure depot"
   ]
  },
  {
   "cell_type": "markdown",
   "id": "30e89fb3",
   "metadata": {},
   "source": [
    "$$ \\sum_{i\\in Succ_{d^{out}},\\forall (v,l)}x_{k1d^{out}1vil}=1,\\ k\\in K,  \\label{Eq4}  (36)$$"
   ]
  },
  {
   "cell_type": "code",
   "execution_count": 127,
   "id": "731e5705",
   "metadata": {},
   "outputs": [],
   "source": [
    "for k in K:\n",
    "    model.add_constraint(\n",
    "            sum(\n",
    "                x[k,1,d_out,1,v,i,l]\n",
    "                for i in Succ[d_out]\n",
    "                for v in V[i]\n",
    "                for l in L[i]\n",
    "            ) == 1,\n",
    "            ctname=\"Eq4_Eq36\"\n",
    "        )"
   ]
  },
  {
   "cell_type": "markdown",
   "id": "c41b1ffe",
   "metadata": {},
   "source": [
    "###### all vehicles return to arrival depot"
   ]
  },
  {
   "cell_type": "markdown",
   "id": "c435e013",
   "metadata": {},
   "source": [
    "$$ \\sum_{i\\in Pred_{d^{in}},\\forall (v,l)} x_{kvil1d^{in}1}=1,\\ k\\in K,   \\label{Eq6} (37)$$"
   ]
  },
  {
   "cell_type": "code",
   "execution_count": 128,
   "id": "2d336eb0",
   "metadata": {},
   "outputs": [],
   "source": [
    "for k in K:\n",
    "    model.add_constraint(\n",
    "            sum(\n",
    "                x[k,v,i,l,1,d_in,1]\n",
    "                for i in Pred[d_in]\n",
    "                for v in V[i]\n",
    "                for l in L[i]\n",
    "            ) == 1,\n",
    "            ctname=\"Eq6_Eq37\"\n",
    "        )"
   ]
  },
  {
   "cell_type": "markdown",
   "id": "1bc7eda6",
   "metadata": {},
   "source": [
    "###### at most one vehicle arrives to any non-depot line for the same visit"
   ]
  },
  {
   "cell_type": "markdown",
   "id": "08dd7162",
   "metadata": {},
   "source": [
    "$$ \\sum_{k\\in K}x^0_{kvil}\\le 1,\\forall (v,l), i\\in C\\cup R, \\label{EqIn5}  (38)$$"
   ]
  },
  {
   "cell_type": "code",
   "execution_count": 129,
   "id": "46a5a79c",
   "metadata": {},
   "outputs": [],
   "source": [
    "for i in R.union(C):\n",
    "    for v in V[i]:\n",
    "        for l in L[i]:\n",
    "            model.add_constraint(\n",
    "                sum(\n",
    "                    x0[k, v, i, l]\n",
    "                    for k in K\n",
    "                ) <= 1,\n",
    "                ctname=\"EqIn5_Eq38\"\n",
    "            )"
   ]
  },
  {
   "cell_type": "markdown",
   "id": "5b40f612",
   "metadata": {},
   "source": [
    "###### real visits are consecutively indexed"
   ]
  },
  {
   "cell_type": "markdown",
   "id": "6e17cc4d",
   "metadata": {},
   "source": [
    "$$ \\sum_{k\\in K}x^0_{kvil}\\ge \\sum_{k\\in K}x^0_{k,v+1,il},\\ v=1,\\ldots,v_i-1,\\ l\\in L_i,\\ i\\in C\\cup R, \\label{EqIn52} (39) $$ "
   ]
  },
  {
   "cell_type": "code",
   "execution_count": 130,
   "id": "5efe1813",
   "metadata": {},
   "outputs": [],
   "source": [
    "for i in R.union(C):\n",
    "    for v in range(1, v_i[i]):\n",
    "        for l in L[i]:\n",
    "            model.add_constraint(\n",
    "                sum(\n",
    "                    x0[k, v, i, l]\n",
    "                    for k in K\n",
    "                ) >= sum(\n",
    "                    x0[k, v+1, i, l]\n",
    "                    for k in K\n",
    "                ),\n",
    "                ctname=\"EqIn52_Eq39\"\n",
    "            )"
   ]
  },
  {
   "cell_type": "markdown",
   "id": "2fe46296",
   "metadata": {},
   "source": [
    "###### if vehicle comes to a non-depot line for a visit then it must leave it"
   ]
  },
  {
   "cell_type": "markdown",
   "id": "a9e94189",
   "metadata": {},
   "source": [
    "$$  \\sum_{i\\in Pred_h} \\sum_{\\forall (v,l)}x_{kvilwhg}=\\sum_{j\\in Succ_h} \\sum_{\\forall (u,q)}x_{kwhgujq}=x^0_{kwhg},\\  k\\in K, \\forall (w,g),  h\\in C\\cup R,  \\label{Eq5}  (40)$$"
   ]
  },
  {
   "cell_type": "code",
   "execution_count": 131,
   "id": "e6781ed5",
   "metadata": {},
   "outputs": [],
   "source": [
    "for k in K:\n",
    "    for h in R.union(C):\n",
    "        for w in V[h]:\n",
    "            for g in L[h]:\n",
    "                model.add_constraint(\n",
    "                    sum(\n",
    "                        x[k,v,i,l,w,h,g]\n",
    "                        for i in Pred[h]\n",
    "                        for v in V[i]\n",
    "                        for l in L[i]\n",
    "                    ) == x0[k,w,h,g],\n",
    "                    ctname=\"Eq5_Eq40_1\"\n",
    "                )\n",
    "                model.add_constraint(\n",
    "                    sum(\n",
    "                        x[k,w,h,g,u,j,q]\n",
    "                        for j in Succ[h]\n",
    "                        for u in V[j]\n",
    "                        for q in L[j]\n",
    "                    ) == x0[k,w,h,g],\n",
    "                    ctname=\"Eq5_Eq40_2\"\n",
    "                )\n"
   ]
  },
  {
   "cell_type": "markdown",
   "id": "01f325e5",
   "metadata": {},
   "source": [
    "###### Domains of variables"
   ]
  },
  {
   "cell_type": "markdown",
   "id": "026f8163",
   "metadata": {},
   "source": [
    "$$ x^0_{kvil}\\!\\in\\!  \\{0,1\\},\\  x_{kvilujq}\\!\\in\\! \\{0,1\\},\\  k\\in K,\\forall ((v,i,l), (i,u,q))\\!\\in\\! E,  \\label{EqDx} (41)$$"
   ]
  },
  {
   "cell_type": "markdown",
   "id": "23f9cd6c",
   "metadata": {},
   "source": [
    "Note that the constraints $$x^0_{kvil}\\!\\in\\! \\{0,1\\}$$ and $$x_{kvilujq}\\!\\in\\! \\{0,1\\}$$ are binary constraints, which means that they can only take values 0 or 1. Therefore, we need to add lower bounds of 0 and upper bounds of 1 to these variables."
   ]
  },
  {
   "cell_type": "code",
   "execution_count": 132,
   "id": "a6eb0c0b",
   "metadata": {},
   "outputs": [],
   "source": [
    "for k in K:\n",
    "    for (v,i,l, u,j,q) in E:\n",
    "        model.add_constraint(x0[k, v, i, l] <= 1, ctname=\"EqDx_Eq41_1\")\n",
    "        model.add_constraint(x0[k, v, i, l] >= 0, ctname=\"EqDx_Eq41_2\")\n",
    "        model.add_constraint(x[k, v, i, l, u, j, q] <= 1, ctname=\"EqDx_Eq41_3\")\n",
    "        model.add_constraint(x[k, v, i, l, u, j, q] >= 0, ctname=\"EqDx_Eq41_4\")"
   ]
  },
  {
   "cell_type": "markdown",
   "id": "9a14855f",
   "metadata": {},
   "source": [
    "$$ \\max\\{a_i,A_k\\}\\! \\le\\!  X_{kvil}\\! \\le\\!  \\min\\{b_i,B_k\\},\\max\\{a_i,A_k\\}\\! \\le\\!  Y_{kvil}\\! \\le\\!  \\min\\{b_i,B_k\\},  k\\!\\in\\! K,\\forall (v,l), i\\!\\in\\! N \\label{EqDX} (42)$$"
   ]
  },
  {
   "cell_type": "code",
   "execution_count": 133,
   "id": "678caf20",
   "metadata": {},
   "outputs": [],
   "source": [
    "for i in all_nodes:\n",
    "    for v in V[i]:\n",
    "        for l in L[i]:\n",
    "            for k in K:\n",
    "                model.add_constraint(X[k, v, i, l] >= max(a[i].values[0], A[k].values[0]), ctname=\"EqDX_Eq42_1\")\n",
    "                model.add_constraint(X[k, v, i, l] <= min(b[i].values[0], B[k].values[0]), ctname=\"EqDX_Eq42_2\")\n",
    "                model.add_constraint(Y[k, v, i, l] >= max(a[i].values[0], A[k].values[0]), ctname=\"EqDX_Eq42_3\")\n",
    "                model.add_constraint(Y[k, v, i, l] <= min(b[i].values[0], B[k].values[0]), ctname=\"EqDX_Eq42_4\")"
   ]
  },
  {
   "cell_type": "markdown",
   "id": "8c1cbf88",
   "metadata": {},
   "source": [
    "$$ 0\\le \\delta_{kvil}\\le f_{m(k)},\\ \\ k\\in K,\\forall (v,l),  i\\in R,  \\label{EqDIdelta}  (43)$$"
   ]
  },
  {
   "cell_type": "code",
   "execution_count": 134,
   "id": "deeb7ff6",
   "metadata": {},
   "outputs": [],
   "source": [
    "for k in K:\n",
    "    for i in R:\n",
    "        for v in V[i]:\n",
    "            for l in L[i]:\n",
    "                upper_bound = f_m[m_k[k]].values[0]  # extract the upper bound value from the series\n",
    "                model.add_constraint(0 <= delta[k, v, i, l], ctname=\"EqDIdelta_Eq43_1\")\n",
    "                model.add_constraint(delta[k, v, i, l] <= upper_bound, ctname=\"EqDIdelta_Eq43_2\")"
   ]
  },
  {
   "cell_type": "markdown",
   "id": "873fe0fe",
   "metadata": {},
   "source": [
    "$$ 0\\le I_{kvil}\\le f_{m(k)},\\ \\ \\  0\\le O_{kvil}\\le f_{m(k)},\\ \\ k\\!\\in\\! K,\\forall (v,l),  i\\!\\in\\! N.  \\label{EqDI}  (44)$$"
   ]
  },
  {
   "cell_type": "code",
   "execution_count": 135,
   "id": "f71a9430",
   "metadata": {},
   "outputs": [],
   "source": [
    "for i in all_nodes:\n",
    "    for v in V[i]:\n",
    "        for l in L[i]:\n",
    "            for k in K:\n",
    "                model.add_constraint(0 <= I[k, v, i, l], ctname=\"EqDI_Eq44_1\")\n",
    "                model.add_constraint(I[k, v, i, l] <= f_m[m_k[k]].values[0], ctname=\"EqDI_Eq44_2\")\n",
    "                model.add_constraint(0 <= O[k, v, i, l], ctname=\"EqDI_Eq44_3\")\n",
    "                model.add_constraint(O[k, v, i, l] <= f_m[m_k[k]].values[0], ctname=\"EqDI_Eq44_4\")"
   ]
  },
  {
   "cell_type": "code",
   "execution_count": 136,
   "id": "4a3b8b94",
   "metadata": {},
   "outputs": [],
   "source": [
    "def get_conflict(mdl):\n",
    "    from docplex.mp.conflict_refiner import ConflictRefiner\n",
    "    print(\"conflict\")\n",
    "    print()\n",
    "\n",
    "    cr = ConflictRefiner()\n",
    "    conflicts = cr.refine_conflict(mdl)\n",
    "    print(mdl.get_solve_status())\n",
    "    print('conflicts', conflicts)\n",
    "    for conflict in conflicts:\n",
    "        print('FOR in conflicts started')\n",
    "        st = conflict.status\n",
    "        ct = conflict.element\n",
    "        label = conflict.name\n",
    "        label_type = type(conflict.element)\n",
    "\n",
    "        # Print conflict information in console\n",
    "        print(\"Conflict involving constraint: %s\" % label)\n",
    "        print(\" \\tfor: %s\" % ct)\n",
    "        print(\" \\tstatus: %s\" % st)\n",
    "        if st == \"infeasible\":\n",
    "            conflict_details = conflict.get_details()\n",
    "            for constr in conflict_details:\n",
    "                print(\" \\t\\t%s\" % constr)\n",
    "\n"
   ]
  },
  {
   "cell_type": "code",
   "execution_count": 137,
   "id": "ebe95dcf",
   "metadata": {},
   "outputs": [
    {
     "name": "stdout",
     "output_type": "stream",
     "text": [
      "Version identifier: 12.10.0.0 | 2019-11-26 | 843d4de\n",
      "CPXPARAM_Read_DataCheck                          1\n",
      "Row 'EqDrive0_Eq14' infeasible, all entries at implied bounds.\n",
      "Presolve time = 0.06 sec. (34.87 ticks)\n",
      "\n",
      "Root node processing (before b&c):\n",
      "  Real time             =    0.07 sec. (46.79 ticks)\n",
      "Parallel b&c, 12 threads:\n",
      "  Real time             =    0.00 sec. (0.00 ticks)\n",
      "  Sync time (average)   =    0.00 sec.\n",
      "  Wait time (average)   =    0.00 sec.\n",
      "                          ------------\n",
      "Total (root+branch&cut) =    0.07 sec. (46.79 ticks)\n"
     ]
    }
   ],
   "source": [
    "solution = model.solve(log_output=True)"
   ]
  },
  {
   "cell_type": "code",
   "execution_count": 138,
   "id": "42a07964",
   "metadata": {},
   "outputs": [
    {
     "name": "stdout",
     "output_type": "stream",
     "text": [
      "conflict\n",
      "\n",
      "JobSolveStatus.INFEASIBLE_SOLUTION\n",
      "conflicts <docplex.mp.conflict_refiner.ConflictRefinerResult object at 0x11f305cd0>\n",
      "FOR in conflicts started\n",
      "Conflict involving constraint: Driveout_Eq10\n",
      " \tfor: Driveout_Eq10: O_1_1_0_1 == 380.00000000000006\n",
      " \tstatus: ConflictStatus.Member\n",
      "FOR in conflicts started\n",
      "Conflict involving constraint: EqDrive0_Eq14\n",
      " \tfor: EqDrive0_Eq14: I_1_1_9_1 == -103.200x_1_1_0_1_1_9_1+O_1_1_0_1\n",
      " \tstatus: ConflictStatus.Member\n",
      "FOR in conflicts started\n",
      "Conflict involving constraint: EqDrive0_Eq14\n",
      " \tfor: EqDrive0_Eq14: I_1_1_0_1 == -114x_1_1_1_1_1_0_1+O_1_1_1_1\n",
      " \tstatus: ConflictStatus.Member\n",
      "FOR in conflicts started\n",
      "Conflict involving constraint: EqDrive0_Eq14\n",
      " \tfor: EqDrive0_Eq14: I_1_1_9_1 == -10.800x_1_1_1_1_1_9_1+O_1_1_1_1\n",
      " \tstatus: ConflictStatus.Member\n",
      "FOR in conflicts started\n",
      "Conflict involving constraint: EqDrive0_Eq14\n",
      " \tfor: EqDrive0_Eq14: I_1_1_0_1 == -103.200x_1_1_9_1_1_0_1+O_1_1_9_1\n",
      " \tstatus: ConflictStatus.Member\n",
      "FOR in conflicts started\n",
      "Conflict involving constraint: EqDrivex0_Eq16\n",
      " \tfor: EqDrivex0_Eq16: I_1_1_9_1+26.667delta_1_1_9_1 <= 760.000x0_1_1_9_1\n",
      " \tstatus: ConflictStatus.Member\n",
      "FOR in conflicts started\n",
      "Conflict involving constraint: EqDrivedelt2_Eq17\n",
      " \tfor: EqDrivedelt2_Eq17: 5x0_1_1_9_1 <= delta_1_1_9_1\n",
      " \tstatus: ConflictStatus.Member\n",
      "FOR in conflicts started\n",
      "Conflict involving constraint: EqDrive2_Eq18\n",
      " \tfor: EqDrive2_Eq18: O_1_1_9_1 == I_1_1_9_1+26.667delta_1_1_9_1\n",
      " \tstatus: ConflictStatus.Member\n"
     ]
    }
   ],
   "source": [
    "status = model.get_solve_status()\n",
    "if status == JobSolveStatus.INFEASIBLE_SOLUTION:\n",
    "    get_conflict(model)"
   ]
  },
  {
   "cell_type": "code",
   "execution_count": null,
   "id": "e8718c2b",
   "metadata": {},
   "outputs": [],
   "source": []
  },
  {
   "cell_type": "code",
   "execution_count": null,
   "id": "c1e7074f",
   "metadata": {},
   "outputs": [],
   "source": [
    "\n",
    "\n"
   ]
  },
  {
   "cell_type": "code",
   "execution_count": null,
   "id": "fbde6ac2",
   "metadata": {},
   "outputs": [],
   "source": [
    "\n",
    "\n"
   ]
  },
  {
   "cell_type": "code",
   "execution_count": null,
   "id": "c800a44e",
   "metadata": {},
   "outputs": [],
   "source": []
  },
  {
   "cell_type": "code",
   "execution_count": null,
   "id": "aeaf537d",
   "metadata": {},
   "outputs": [],
   "source": []
  },
  {
   "cell_type": "code",
   "execution_count": null,
   "id": "e84c73f0",
   "metadata": {},
   "outputs": [],
   "source": []
  },
  {
   "cell_type": "code",
   "execution_count": null,
   "id": "f3e6e040",
   "metadata": {},
   "outputs": [],
   "source": []
  },
  {
   "cell_type": "code",
   "execution_count": null,
   "id": "18edd44c",
   "metadata": {},
   "outputs": [],
   "source": []
  }
 ],
 "metadata": {
  "kernelspec": {
   "display_name": "Python 3 (ipykernel)",
   "language": "python",
   "name": "python3"
  },
  "language_info": {
   "codemirror_mode": {
    "name": "ipython",
    "version": 3
   },
   "file_extension": ".py",
   "mimetype": "text/x-python",
   "name": "python",
   "nbconvert_exporter": "python",
   "pygments_lexer": "ipython3",
   "version": "3.7.10"
  }
 },
 "nbformat": 4,
 "nbformat_minor": 5
}
